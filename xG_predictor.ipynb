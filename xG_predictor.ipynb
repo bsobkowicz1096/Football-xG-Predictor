{
 "cells": [
  {
   "cell_type": "markdown",
   "id": "ee8046c3",
   "metadata": {},
   "source": [
    "## IMPORTOWANIE BIBLIOTEK I WCZYTANIE DANYCH"
   ]
  },
  {
   "cell_type": "code",
   "execution_count": 1,
   "id": "f3054ebd",
   "metadata": {},
   "outputs": [],
   "source": [
    "import pandas as pd\n",
    "import numpy as np\n",
    "import matplotlib.pyplot as plt\n",
    "import seaborn as sns\n",
    "import re\n",
    "import ast\n",
    "\n",
    "from scipy import stats\n",
    "from scipy.stats import spearmanr\n",
    "\n",
    "from mplsoccer import VerticalPitch\n",
    "\n",
    "from sklearn.preprocessing import StandardScaler\n",
    "from imblearn.over_sampling import RandomOverSampler\n",
    "from sklearn.model_selection import train_test_split, cross_val_score, GridSearchCV\n",
    "from sklearn.metrics import (\n",
    "    roc_auc_score, brier_score_loss, log_loss, \n",
    "    precision_recall_curve, auc, roc_curve\n",
    ")\n",
    "from sklearn.calibration import calibration_curve\n",
    "\n",
    "from sklearn.linear_model import LogisticRegression\n",
    "from sklearn.ensemble import RandomForestClassifier\n",
    "from xgboost import XGBClassifier"
   ]
  },
  {
   "cell_type": "code",
   "execution_count": 2,
   "id": "ac9eca62",
   "metadata": {},
   "outputs": [
    {
     "name": "stdout",
     "output_type": "stream",
     "text": [
      "(45719, 121)\n",
      "   Unnamed: 0  50_50  ball_receipt_outcome  ball_recovery_recovery_failure  \\\n",
      "0        3487    NaN                   NaN                             NaN   \n",
      "1        3488    NaN                   NaN                             NaN   \n",
      "2        3489    NaN                   NaN                             NaN   \n",
      "3        3490    NaN                   NaN                             NaN   \n",
      "4        3491    NaN                   NaN                             NaN   \n",
      "\n",
      "   carry_end_location  clearance_aerial_won  clearance_body_part  \\\n",
      "0                 NaN                   NaN                  NaN   \n",
      "1                 NaN                   NaN                  NaN   \n",
      "2                 NaN                   NaN                  NaN   \n",
      "3                 NaN                   NaN                  NaN   \n",
      "4                 NaN                   NaN                  NaN   \n",
      "\n",
      "   clearance_head  clearance_left_foot  clearance_other  ...  \\\n",
      "0             NaN                  NaN              NaN  ...   \n",
      "1             NaN                  NaN              NaN  ...   \n",
      "2             NaN                  NaN              NaN  ...   \n",
      "3             NaN                  NaN              NaN  ...   \n",
      "4             NaN                  NaN              NaN  ...   \n",
      "\n",
      "   goalkeeper_shot_saved_to_post  shot_saved_to_post  goalkeeper_lost_in_play  \\\n",
      "0                            NaN                 NaN                      NaN   \n",
      "1                            NaN                 NaN                      NaN   \n",
      "2                            NaN                 NaN                      NaN   \n",
      "3                            NaN                 NaN                      NaN   \n",
      "4                            NaN                 NaN                      NaN   \n",
      "\n",
      "   goalkeeper_lost_out  half_start_late_video_start  player_off_permanent  \\\n",
      "0                  NaN                          NaN                   NaN   \n",
      "1                  NaN                          NaN                   NaN   \n",
      "2                  NaN                          NaN                   NaN   \n",
      "3                  NaN                          NaN                   NaN   \n",
      "4                  NaN                          NaN                   NaN   \n",
      "\n",
      "   goalkeeper_penalty_saved_to_post  goalkeeper_saved_to_post  \\\n",
      "0                               NaN                       NaN   \n",
      "1                               NaN                       NaN   \n",
      "2                               NaN                       NaN   \n",
      "3                               NaN                       NaN   \n",
      "4                               NaN                       NaN   \n",
      "\n",
      "   goalkeeper_success_out  half_end_early_video_end  \n",
      "0                     NaN                       NaN  \n",
      "1                     NaN                       NaN  \n",
      "2                     NaN                       NaN  \n",
      "3                     NaN                       NaN  \n",
      "4                     NaN                       NaN  \n",
      "\n",
      "[5 rows x 121 columns]\n"
     ]
    }
   ],
   "source": [
    "path = r\"D:\\football_project\\all_shots_combined_2015_2016.csv\"\n",
    "df = pd.read_csv(path)\n",
    "print(df.shape)\n",
    "print(df.head())"
   ]
  },
  {
   "cell_type": "markdown",
   "id": "21853096",
   "metadata": {},
   "source": [
    "Wczytany zbiór danych jest mocno rozbudowany. Zawiera 45 719 obserwacji oraz 121 zmiennych. Jednak już na pierwszy rzut oka można zauważyć, że nie wszystkie zmienne są powiązane ze strzałami. W związku z tym już teraz mogę usunąć zmienne, które dla wszystkich obserwacji przyjmują wartość NaN."
   ]
  },
  {
   "cell_type": "code",
   "execution_count": 3,
   "id": "73c7bb5c",
   "metadata": {},
   "outputs": [
    {
     "name": "stdout",
     "output_type": "stream",
     "text": [
      "(45719, 41)\n",
      "Index(['Unnamed: 0', 'duration', 'id', 'index', 'location', 'match_id',\n",
      "       'minute', 'off_camera', 'out', 'period', 'play_pattern', 'player',\n",
      "       'player_id', 'position', 'possession', 'possession_team',\n",
      "       'possession_team_id', 'related_events', 'second', 'shot_aerial_won',\n",
      "       'shot_body_part', 'shot_end_location', 'shot_first_time',\n",
      "       'shot_freeze_frame', 'shot_key_pass_id', 'shot_outcome',\n",
      "       'shot_statsbomb_xg', 'shot_technique', 'shot_type', 'team', 'team_id',\n",
      "       'timestamp', 'type', 'under_pressure', 'shot_one_on_one',\n",
      "       'shot_deflected', 'shot_open_goal', 'shot_redirect',\n",
      "       'shot_saved_off_target', 'shot_follows_dribble', 'shot_saved_to_post'],\n",
      "      dtype='object')\n"
     ]
    }
   ],
   "source": [
    "df = df.dropna(axis=1, how='all')\n",
    "print(df.shape)\n",
    "print(df.columns)"
   ]
  },
  {
   "cell_type": "markdown",
   "id": "672865a9",
   "metadata": {},
   "source": [
    "W wyniku tej operacji rozmiar zbioru zmniejszył się do 41 kolumn. Po przejrzeniu pozostałych zmiennych udało mi się wybrać te potencjalnie istotne dla przyszłego modelu."
   ]
  },
  {
   "cell_type": "markdown",
   "id": "2bc020cf",
   "metadata": {},
   "source": [
    "## WSTĘPNY ZBIÓR DANYCH BEZ OBRÓBKI ZMIENNYCH"
   ]
  },
  {
   "cell_type": "code",
   "execution_count": 4,
   "id": "e90ef88a",
   "metadata": {},
   "outputs": [],
   "source": [
    "feature = [\n",
    "    'shot_outcome', # zmienna objaśniana\n",
    "    'under_pressure', 'location', \n",
    "    'shot_technique', 'shot_body_part',\n",
    "    'shot_type', 'shot_first_time', 'shot_open_goal',\n",
    "    'shot_one_on_one', 'shot_follows_dribble', 'shot_freeze_frame',\n",
    "    'player_id', # do transformacji shot_body_part\n",
    "    'shot_statsbomb_xg', #jedynie do końcowego porównania trendów między modelami\n",
    "]"
   ]
  },
  {
   "cell_type": "markdown",
   "id": "779e4f3f",
   "metadata": {},
   "source": [
    "Do dalszej obróbki wybrałem następujące zmienne:\n",
    "- **shot_outcome** - przyszła zmienna objaśniana opisująca rezultat oddanego strzału,\n",
    "- **under_pressure** - zmienna binarna; czy strzał był oddawany pod presją przeciwnika,\n",
    "- **location** - zmienna informująca o lokalizacji, z której oddano strzał; koordynaty x (0-120) oraz y (0-80),\n",
    "- **shot_technique** - zmienna kategorialna; technika oddania strzału,\n",
    "- **shot_body_part** - zmienna kategorialna; część ciała którą oddano strzał,\n",
    "- **shot_type** - zmienna kategorialna; w jakiej sytuacji oddano strzał: \"z gry\", z rzutu wolnego, z rzutu karnego, itp.\n",
    "- **shot_first_time** - zmienna binarna; czy strzał był odddany z pierwszej piłki (bez przyjęcia),\n",
    "- **shot_open_goal** - zmienna binarna; czy strzał był odddany \"do pustej bramki\",\n",
    "- **shot_one_to_one** - zmienna binarna; czy strzał był odddany w wyniku sytuacji \"jeden na jednego\",\n",
    "- **shot_follows_dribble** - zmienna binarna; czy strzał był odddany po dryblingu,\n",
    "- **shot_freeze_frame** - zmienna zawierająca lokalizacje innych zawodników w momencie oddania strzału;\n",
    "- **player_id** - zmienna pomocnicza; numer identyfikacyjny piłkarza,\n",
    "- **shot_statsbomb_xg** - zmienna pomocnicza użyta w celu ewaluacji modelu; wartość expected goals wyliczona przez algorytmy StatsBomb"
   ]
  },
  {
   "cell_type": "code",
   "execution_count": 5,
   "id": "edec8cb4",
   "metadata": {
    "scrolled": true
   },
   "outputs": [
    {
     "data": {
      "text/html": [
       "<div>\n",
       "<style scoped>\n",
       "    .dataframe tbody tr th:only-of-type {\n",
       "        vertical-align: middle;\n",
       "    }\n",
       "\n",
       "    .dataframe tbody tr th {\n",
       "        vertical-align: top;\n",
       "    }\n",
       "\n",
       "    .dataframe thead th {\n",
       "        text-align: right;\n",
       "    }\n",
       "</style>\n",
       "<table border=\"1\" class=\"dataframe\">\n",
       "  <thead>\n",
       "    <tr style=\"text-align: right;\">\n",
       "      <th></th>\n",
       "      <th>shot_outcome</th>\n",
       "      <th>under_pressure</th>\n",
       "      <th>location</th>\n",
       "      <th>shot_technique</th>\n",
       "      <th>shot_body_part</th>\n",
       "      <th>shot_type</th>\n",
       "      <th>shot_first_time</th>\n",
       "      <th>shot_open_goal</th>\n",
       "      <th>shot_one_on_one</th>\n",
       "      <th>shot_follows_dribble</th>\n",
       "      <th>shot_freeze_frame</th>\n",
       "      <th>player_id</th>\n",
       "      <th>shot_statsbomb_xg</th>\n",
       "    </tr>\n",
       "  </thead>\n",
       "  <tbody>\n",
       "    <tr>\n",
       "      <th>0</th>\n",
       "      <td>Goal</td>\n",
       "      <td>True</td>\n",
       "      <td>[112.0, 35.7]</td>\n",
       "      <td>Normal</td>\n",
       "      <td>Head</td>\n",
       "      <td>Open Play</td>\n",
       "      <td>NaN</td>\n",
       "      <td>NaN</td>\n",
       "      <td>NaN</td>\n",
       "      <td>NaN</td>\n",
       "      <td>[{'location': [111.5, 8.3], 'player': {'id': 8...</td>\n",
       "      <td>7017.0</td>\n",
       "      <td>0.074454</td>\n",
       "    </tr>\n",
       "    <tr>\n",
       "      <th>1</th>\n",
       "      <td>Blocked</td>\n",
       "      <td>NaN</td>\n",
       "      <td>[96.1, 19.5]</td>\n",
       "      <td>Normal</td>\n",
       "      <td>Left Foot</td>\n",
       "      <td>Open Play</td>\n",
       "      <td>NaN</td>\n",
       "      <td>NaN</td>\n",
       "      <td>NaN</td>\n",
       "      <td>NaN</td>\n",
       "      <td>[{'location': [99.1, 42.5], 'player': {'id': 5...</td>\n",
       "      <td>31231.0</td>\n",
       "      <td>0.008508</td>\n",
       "    </tr>\n",
       "    <tr>\n",
       "      <th>2</th>\n",
       "      <td>Saved</td>\n",
       "      <td>True</td>\n",
       "      <td>[110.3, 41.2]</td>\n",
       "      <td>Normal</td>\n",
       "      <td>Head</td>\n",
       "      <td>Open Play</td>\n",
       "      <td>NaN</td>\n",
       "      <td>NaN</td>\n",
       "      <td>NaN</td>\n",
       "      <td>NaN</td>\n",
       "      <td>[{'location': [105.5, 29.6], 'player': {'id': ...</td>\n",
       "      <td>8871.0</td>\n",
       "      <td>0.085069</td>\n",
       "    </tr>\n",
       "    <tr>\n",
       "      <th>3</th>\n",
       "      <td>Goal</td>\n",
       "      <td>NaN</td>\n",
       "      <td>[108.1, 40.1]</td>\n",
       "      <td>Normal</td>\n",
       "      <td>Right Foot</td>\n",
       "      <td>Penalty</td>\n",
       "      <td>NaN</td>\n",
       "      <td>NaN</td>\n",
       "      <td>NaN</td>\n",
       "      <td>NaN</td>\n",
       "      <td>NaN</td>\n",
       "      <td>386607.0</td>\n",
       "      <td>0.783500</td>\n",
       "    </tr>\n",
       "    <tr>\n",
       "      <th>4</th>\n",
       "      <td>Off T</td>\n",
       "      <td>NaN</td>\n",
       "      <td>[110.5, 23.4]</td>\n",
       "      <td>Half Volley</td>\n",
       "      <td>Left Foot</td>\n",
       "      <td>Open Play</td>\n",
       "      <td>True</td>\n",
       "      <td>NaN</td>\n",
       "      <td>NaN</td>\n",
       "      <td>NaN</td>\n",
       "      <td>[{'location': [108.1, 30.7], 'player': {'id': ...</td>\n",
       "      <td>7017.0</td>\n",
       "      <td>0.011791</td>\n",
       "    </tr>\n",
       "  </tbody>\n",
       "</table>\n",
       "</div>"
      ],
      "text/plain": [
       "  shot_outcome under_pressure       location shot_technique shot_body_part  \\\n",
       "0         Goal           True  [112.0, 35.7]         Normal           Head   \n",
       "1      Blocked            NaN   [96.1, 19.5]         Normal      Left Foot   \n",
       "2        Saved           True  [110.3, 41.2]         Normal           Head   \n",
       "3         Goal            NaN  [108.1, 40.1]         Normal     Right Foot   \n",
       "4        Off T            NaN  [110.5, 23.4]    Half Volley      Left Foot   \n",
       "\n",
       "   shot_type shot_first_time shot_open_goal shot_one_on_one  \\\n",
       "0  Open Play             NaN            NaN             NaN   \n",
       "1  Open Play             NaN            NaN             NaN   \n",
       "2  Open Play             NaN            NaN             NaN   \n",
       "3    Penalty             NaN            NaN             NaN   \n",
       "4  Open Play            True            NaN             NaN   \n",
       "\n",
       "  shot_follows_dribble                                  shot_freeze_frame  \\\n",
       "0                  NaN  [{'location': [111.5, 8.3], 'player': {'id': 8...   \n",
       "1                  NaN  [{'location': [99.1, 42.5], 'player': {'id': 5...   \n",
       "2                  NaN  [{'location': [105.5, 29.6], 'player': {'id': ...   \n",
       "3                  NaN                                                NaN   \n",
       "4                  NaN  [{'location': [108.1, 30.7], 'player': {'id': ...   \n",
       "\n",
       "   player_id  shot_statsbomb_xg  \n",
       "0     7017.0           0.074454  \n",
       "1    31231.0           0.008508  \n",
       "2     8871.0           0.085069  \n",
       "3   386607.0           0.783500  \n",
       "4     7017.0           0.011791  "
      ]
     },
     "execution_count": 5,
     "metadata": {},
     "output_type": "execute_result"
    }
   ],
   "source": [
    "df_shots = df[feature]\n",
    "df_shots.head()"
   ]
  },
  {
   "cell_type": "markdown",
   "id": "d7e32376",
   "metadata": {},
   "source": [
    "## TRANSFORMACJA ZMIENNEJ OBJAŚNIANEJ W ZMIENNĄ BINARNĄ"
   ]
  },
  {
   "cell_type": "markdown",
   "id": "5b5925f7",
   "metadata": {},
   "source": [
    "Pierwszym krokiem po zdefiniowaniu zbioru danych było utworzenie zmiennej docelowej poprzez transformację zmiennej *shot_outcome* w zmienną binarną."
   ]
  },
  {
   "cell_type": "code",
   "execution_count": 6,
   "id": "3c86760c",
   "metadata": {},
   "outputs": [
    {
     "name": "stdout",
     "output_type": "stream",
     "text": [
      "shot_outcome\n",
      "Off T               33.003784\n",
      "Blocked             24.698703\n",
      "Saved               23.500077\n",
      "Goal                10.293314\n",
      "Wayward              5.914390\n",
      "Post                 1.902929\n",
      "Saved Off Target     0.352151\n",
      "Saved to Post        0.334653\n",
      "Name: proportion, dtype: float64\n",
      "--------------------------------------------------\n",
      "shot_outcome\n",
      "0    89.706686\n",
      "1    10.293314\n",
      "Name: proportion, dtype: float64\n"
     ]
    },
    {
     "name": "stderr",
     "output_type": "stream",
     "text": [
      "C:\\Users\\Bartek\\AppData\\Local\\Temp\\ipykernel_16604\\594979794.py:3: SettingWithCopyWarning: \n",
      "A value is trying to be set on a copy of a slice from a DataFrame.\n",
      "Try using .loc[row_indexer,col_indexer] = value instead\n",
      "\n",
      "See the caveats in the documentation: https://pandas.pydata.org/pandas-docs/stable/user_guide/indexing.html#returning-a-view-versus-a-copy\n",
      "  df_shots['shot_outcome'] = np.where(df_shots['shot_outcome']=='Goal',\n"
     ]
    }
   ],
   "source": [
    "print(df_shots['shot_outcome'].value_counts(normalize=True)*100)\n",
    "\n",
    "df_shots['shot_outcome'] = np.where(df_shots['shot_outcome']=='Goal',\n",
    "                                    1, 0)\n",
    "print(50*'-')\n",
    "print(df_shots['shot_outcome'].value_counts(normalize=True)*100)"
   ]
  },
  {
   "cell_type": "markdown",
   "id": "650ec3b9",
   "metadata": {},
   "source": [
    "Pierwotnie zmienna zawierała wiele kategorii. Dla mnie natomiast istotne było jedynie rozróżnienie: gol vs nie gol. W związku z tym do obserwacji z etykietą \"Goal\" przypisałem 1 a do pozostałych 0. Jak się okazało jedynie około 10% wszystkich strzałów zakończyło się zdobyciem bramki. Jest to zgodne z powszechnie obserwowanym zjawiskiem w piłce nożnej, gdzie średnio co 10 akcja ofensywna kończy się strzałem, a co 10 strzał kończy się golem. W rezultacie ledwie 1% akcji ofensywnych jest zwieńczonych strzeleniem bramki. \n",
    "\n",
    "Dla modelu predykcyjnego tak silne niezrównoważenie klas nie jest korzystne (stronniczość modelu w kierunku przeważającej klasy). W związku z tym przed trenowaniem modelu konieczne będzie dokonanie resamplingu."
   ]
  },
  {
   "cell_type": "markdown",
   "id": "7a443e05",
   "metadata": {},
   "source": [
    "## WSTĘPNE TRANSFORMACJE I OCZYSZCZANIE DANYCH"
   ]
  },
  {
   "cell_type": "code",
   "execution_count": 7,
   "id": "ee8cd696",
   "metadata": {},
   "outputs": [
    {
     "name": "stdout",
     "output_type": "stream",
     "text": [
      "<class 'pandas.core.frame.DataFrame'>\n",
      "RangeIndex: 45719 entries, 0 to 45718\n",
      "Data columns (total 13 columns):\n",
      " #   Column                Non-Null Count  Dtype  \n",
      "---  ------                --------------  -----  \n",
      " 0   shot_outcome          45719 non-null  int32  \n",
      " 1   under_pressure        12290 non-null  object \n",
      " 2   location              45719 non-null  object \n",
      " 3   shot_technique        45719 non-null  object \n",
      " 4   shot_body_part        45719 non-null  object \n",
      " 5   shot_type             45719 non-null  object \n",
      " 6   shot_first_time       14402 non-null  object \n",
      " 7   shot_open_goal        484 non-null    object \n",
      " 8   shot_one_on_one       2332 non-null   object \n",
      " 9   shot_follows_dribble  35 non-null     object \n",
      " 10  shot_freeze_frame     45285 non-null  object \n",
      " 11  player_id             45719 non-null  float64\n",
      " 12  shot_statsbomb_xg     45719 non-null  float64\n",
      "dtypes: float64(2), int32(1), object(10)\n",
      "memory usage: 4.4+ MB\n",
      "None\n"
     ]
    }
   ],
   "source": [
    "print(df_shots.info())"
   ]
  },
  {
   "cell_type": "markdown",
   "id": "f722bc2b",
   "metadata": {},
   "source": [
    "Wszystkie zmienne rozważane jako zmienne objaśniające do modelu są typu \"object\". W związku z tym w pózniejszej części przygotowań będzie należało dokonać na nich transformacji. Dodatkowo dla 5 zmiennych występują wartości nullowe. Zgodnie z dokumentacją nie są one jednak prawdziwymi missingami: dla zmiennych *shot_first_time*, *shot_open_goal*, *shot_one_on_one*, *shot_follows_dribble* wartość Null jest równoznaczna z False. Natomiast dla zmiennej *shot_freeze_frame* zmienna przyjmuje wartośc NaN dla rzutów karnych (nie ma sensu wówczas podawać ustawienia zawodników). Można szybko potwierdzić to założenie:"
   ]
  },
  {
   "cell_type": "code",
   "execution_count": 8,
   "id": "964a8bb3",
   "metadata": {},
   "outputs": [
    {
     "data": {
      "text/plain": [
       "array(['Penalty'], dtype=object)"
      ]
     },
     "execution_count": 8,
     "metadata": {},
     "output_type": "execute_result"
    }
   ],
   "source": [
    "df_shots['shot_type'][df_shots['shot_freeze_frame'].isna()].unique()"
   ]
  },
  {
   "cell_type": "markdown",
   "id": "72f4fe98",
   "metadata": {},
   "source": [
    "Rzeczywiście wartości NaN w kolumnie *shot_freeze_frame* występują jedynie dla rzutów karnych. Następnym krokiem jest bliższe przyjrzenie się zmiennym, które z założenia posiadają kategorie."
   ]
  },
  {
   "cell_type": "code",
   "execution_count": 9,
   "id": "51cc851a",
   "metadata": {},
   "outputs": [
    {
     "name": "stdout",
     "output_type": "stream",
     "text": [
      "under_pressure\n",
      "NaN     73.118397\n",
      "True    26.881603\n",
      "Name: proportion, dtype: float64\n",
      "--------------------------------------------------\n",
      "shot_technique\n",
      "Normal           75.874363\n",
      "Half Volley      14.991579\n",
      "Volley            6.903038\n",
      "Lob               0.883659\n",
      "Overhead Kick     0.566504\n",
      "Backheel          0.400271\n",
      "Diving Header     0.380586\n",
      "Name: proportion, dtype: float64\n",
      "--------------------------------------------------\n",
      "shot_body_part\n",
      "Right Foot    52.138061\n",
      "Left Foot     31.166473\n",
      "Head          16.450491\n",
      "Other          0.244975\n",
      "Name: proportion, dtype: float64\n",
      "--------------------------------------------------\n",
      "shot_type\n",
      "Open Play    94.262779\n",
      "Free Kick     4.645771\n",
      "Penalty       1.063015\n",
      "Corner        0.028435\n",
      "Name: proportion, dtype: float64\n",
      "--------------------------------------------------\n",
      "shot_first_time\n",
      "NaN     68.498874\n",
      "True    31.501126\n",
      "Name: proportion, dtype: float64\n",
      "--------------------------------------------------\n",
      "shot_open_goal\n",
      "NaN     98.941359\n",
      "True     1.058641\n",
      "Name: proportion, dtype: float64\n",
      "--------------------------------------------------\n",
      "shot_one_on_one\n",
      "NaN     94.899276\n",
      "True     5.100724\n",
      "Name: proportion, dtype: float64\n",
      "--------------------------------------------------\n",
      "shot_follows_dribble\n",
      "NaN     99.923445\n",
      "True     0.076555\n",
      "Name: proportion, dtype: float64\n",
      "--------------------------------------------------\n"
     ]
    }
   ],
   "source": [
    "categorical = [\n",
    "    'under_pressure', 'shot_technique', 'shot_body_part',\n",
    "    'shot_type', 'shot_first_time', 'shot_open_goal',\n",
    "    'shot_one_on_one', 'shot_follows_dribble'\n",
    "]\n",
    "\n",
    "for i in categorical:\n",
    "    print(df_shots[i].value_counts(normalize=True, dropna=False)*100)\n",
    "    print(50*'-')"
   ]
  },
  {
   "cell_type": "markdown",
   "id": "914fb00c",
   "metadata": {},
   "source": [
    "- **under_pressure** - 27% strzałów zostało oddanych pod presją przeciwnika oraz 73% bez. Obydwie kategorie są wystarczajaco liczne, dlatego pozostawiam zmienną. Będzie ona przekodowana na zmienną binarną.\n",
    "\n",
    "- **shot_technique** - wiel kategorii z czego najliczniejsza \"Normal\" (76% strzałów). Zdecydowałem o transformacji zmiennej na zmienną binarną: *normal_shot*. Dla kategorii \"Normal\" przypiszę wartość 1, a dla pozostałych wartość 0 (strzały z woleja, ekwilibrystyczne, etc.)\n",
    "\n",
    "- **shot_body_part** - trzy stosunkowo liczne kateogrie (*Right Foot*, *Left Foot*, *Head*) oraz jedna (*Other*) stanowiąca tylko 2,5%. Trzy pierwsze kategorie pozostawię, przy czym zamiast surowych danych *Left/Right Foot* dokonam transformacji na *Better/Worse Foot* co powinno zwiększyć siłę predykcyjną zmiennej. Najmniej liczną kategorię usunę ze zbioru.\n",
    "\n",
    "- **shot_type** - zawiera 4 kategorie, z czego jedną silnie dominującą (*Open Play* - 94%). Pozostawiam kategorię *Free Kick* stanowiącą blisko 5% obserwacji i usuwam *Corner*, gdyż strzały bezpośrednio z rzutu rożnego są bardzo rzadkie (mniej niż 0.03% obserwacji). Kategorii *Penalty* przyjrzę się w następnym kroku, bo mimo małej liczebności (około 1% strzałów) wiem, że większość z nich kończy się strzeleniem gola. \n",
    "\n",
    "- **shot_first_time** - 31.5% strzałów oddano z pierwszej piłki oraz 68.5% z przyjęciem (lub piłki stojącej). Kategorie tej zmiennej są dobrze zbalansowane. Zmienną przekoduję w zmienną binarną.\n",
    "\n",
    "- **shot_open_goal**, **shot_one_on_one**, **shot_follows_dribble** - silnie niezbalansowane zmiennne; zmienna **shot_one_on_one** zawiera 5% wartości *True*, ale ze względu na informacje jakie będę w stanie wyciągnąć ze zmiennej **shot_freeze_frame** uznałem, że podobnie jak dwie pozostałe zmienne również ta zostanie usunięta ze zbioru."
   ]
  },
  {
   "cell_type": "code",
   "execution_count": 10,
   "id": "40ae2e98",
   "metadata": {},
   "outputs": [
    {
     "name": "stdout",
     "output_type": "stream",
     "text": [
      "shot_type\n",
      "Open Play    94.262779\n",
      "Free Kick     4.645771\n",
      "Penalty       1.063015\n",
      "Corner        0.028435\n",
      "Name: proportion, dtype: float64\n",
      "--------------------------------------------------\n",
      "shot_outcome\n",
      "1    75.720165\n",
      "0    24.279835\n",
      "Name: proportion, dtype: float64\n"
     ]
    }
   ],
   "source": [
    "print(df_shots['shot_type'].value_counts(normalize=True)*100)\n",
    "print(50*'-')\n",
    "print(df_shots[df_shots['shot_type']=='Penalty']['shot_outcome'].value_counts(normalize=True)*100)"
   ]
  },
  {
   "cell_type": "markdown",
   "id": "27888087",
   "metadata": {},
   "source": [
    "Tak jak zaznaczyłem w poprzednim kroku, rzuty karne mimo, że stanowią tylko 1% strzałów to w 75% kończą się bramką. Dodatkowo ich charakter (oddawane z tego samego punktu, nieistotne ustawienie przeciwników, etc.) powoduje, że mogłyby silnie zniekształcać wyniki modelu (np. sztucznie zawyżając skuteczność strzałów z okolic \"11 metra\"). W zwiazku z tym zdecydowałem o usunięciu obserwacji z etykietą *Penalty*."
   ]
  },
  {
   "cell_type": "code",
   "execution_count": 11,
   "id": "d6e4a0b1",
   "metadata": {},
   "outputs": [
    {
     "data": {
      "text/plain": [
       "shot_outcome\n",
       "0    90.409657\n",
       "1     9.590343\n",
       "Name: proportion, dtype: float64"
      ]
     },
     "execution_count": 11,
     "metadata": {},
     "output_type": "execute_result"
    }
   ],
   "source": [
    "df_shots = df_shots[df_shots['shot_type']!='Penalty']\n",
    "df_shots['shot_outcome'].value_counts(normalize=True)*100"
   ]
  },
  {
   "cell_type": "markdown",
   "id": "5dc70be0",
   "metadata": {},
   "source": [
    "Po tej operacji doszło do delikatnego spadku w udziale goli, które stanowią aktualnie około 9.6% wszystkich strzałów."
   ]
  },
  {
   "cell_type": "markdown",
   "id": "499f20dc",
   "metadata": {},
   "source": [
    "### Zmienne ciągłe"
   ]
  },
  {
   "cell_type": "markdown",
   "id": "c19deb60",
   "metadata": {},
   "source": [
    "#### Współrzędne - odległość i kąt strzału"
   ]
  },
  {
   "cell_type": "markdown",
   "id": "8e772ed4",
   "metadata": {},
   "source": [
    "Współrzędne punktu skąd oddano strzał są zakodowane w zmiennej **location** w formacie [x, y]. Boisko ma wymiar 120x80 (ważne, aby nie traktować tego jako metry bądź jardy, gdyż boiska mają różne wymiary i to jest jedynie wystandaryzowana wielkość boiska zaproponowana przez StatsBob) i kierunek ataku przebiega od wartości x=0 do wartości x=120 (bramka przeciwnika). W związku z tym, aby obliczyć z jakiej odległości od bramki, a raczej od linii końcowej oddano strzał będzie należało dokonać transformacji (120-x)."
   ]
  },
  {
   "cell_type": "code",
   "execution_count": 12,
   "id": "2a334f60",
   "metadata": {},
   "outputs": [],
   "source": [
    "def extract_xy(loc_str):\n",
    "    numbers = re.findall(r\"\\d*\\.\\d+|\\d+\", loc_str)\n",
    "    if len(numbers)==2:\n",
    "        return float(numbers[0]), float(numbers[1])\n",
    "    else:\n",
    "        return None, None\n",
    "    \n",
    "df_shots[['x', 'y']] = df_shots['location'].apply(extract_xy).apply(pd.Series)\n",
    "df_shots = df_shots.drop('location', axis=1)\n",
    "\n",
    "### Odległość od linii końcowej\n",
    "df_shots['distance_to_end_line'] = 120 - df_shots['x']"
   ]
  },
  {
   "cell_type": "markdown",
   "id": "a3fada52",
   "metadata": {},
   "source": [
    "Wizualizacja strzałów w zależności od współrzędnych jest problematyczna ze względu na to, że sektory na boisku są nierównoliczne, a wręcz silnie niezbalansowane. Strzałów z bliskich i centralnych pozycji musi być więcej niż tych z okolic dalszych i bardziej bocznych. Dodatkowo dane mogą zawierać outliersy, np. gdy pojawią się odważne strzały z 40-50 metrów lub próby zmieszczenia piłki w siatce przy uderzeniach z okolic linii bocznych boiska. W celu zniwelowania tych problemów postanowiłem podzielić strzały na równoliczne kwantyle."
   ]
  },
  {
   "cell_type": "code",
   "execution_count": 13,
   "id": "359399d0",
   "metadata": {},
   "outputs": [
    {
     "data": {
      "image/png": "[encoded data removed]",
      "text/plain": [
       "<Figure size 1500x500 with 2 Axes>"
      ]
     },
     "metadata": {},
     "output_type": "display_data"
    }
   ],
   "source": [
    "# Kwantyle dla współrzędnych\n",
    "df_shots['x_quantile'] = pd.qcut(df_shots['distance_to_end_line'], q=15, labels=False)\n",
    "df_shots['y_quantile'] = pd.qcut(df_shots['y'], q=15, labels=False)\n",
    "\n",
    "# Skuteczność strzałów w zależności od kwantyla odległości od linii końcowej\n",
    "df_eff_x = df_shots.groupby('x_quantile')['shot_outcome'].mean().reset_index()\n",
    "df_eff_x['count'] = df_shots.groupby('x_quantile')['shot_outcome'].count().values\n",
    "\n",
    "# Skuteczność strzałów w zależności od kwantyla y (szerokości boiska)\n",
    "df_eff_y = df_shots.groupby('y_quantile')['shot_outcome'].mean().reset_index()\n",
    "df_eff_y['count'] = df_shots.groupby('y_quantile')['shot_outcome'].count().values\n",
    "\n",
    "sns.set_style(\"whitegrid\")\n",
    "fig, axes = plt.subplots(1, 2, figsize=(15, 5))\n",
    "\n",
    "# Histogram skuteczności w zależności od kwantyla odległości od linii końcowej\n",
    "sns.barplot(x=df_eff_x['x_quantile'].astype(str), y=df_eff_x['shot_outcome'], ax=axes[0])\n",
    "axes[0].set_title('Skuteczność strzału a odległość od linii końcowej (kwantyle)', size=16)\n",
    "axes[0].set_xlabel('Kwantyl odległości od linii końcowej', size=13)\n",
    "axes[0].set_ylabel('Skuteczność strzału', size=13)\n",
    "\n",
    "# Histogram skuteczności w zależności od kwantyla y\n",
    "sns.barplot(x=df_eff_y['y_quantile'].astype(str), y=df_eff_y['shot_outcome'], ax=axes[1])\n",
    "axes[1].set_title('Skuteczność strzału a pozycja Y (kwantyle)', size=16)\n",
    "axes[1].set_xlabel('Kwantyl pozycji Y', size=13)\n",
    "axes[1].set_ylabel('Skuteczność strzału', size=13)\n",
    "\n",
    "plt.tight_layout()\n",
    "plt.show()"
   ]
  },
  {
   "cell_type": "markdown",
   "id": "af03fbca",
   "metadata": {},
   "source": [
    "Dzięki zastosowaniu kwantyli widzimy wyraźnie, że wraz ze wzrostem odległości od linii końcowej boiska skuteczność strzałów spada. Dla pierwszego kwantyla jest to ponad 25%, dla siódmego nieco ponad 10%, a dla ostatniego około 1-2%. Wyraźny wzorzec widać również dla wykresu skuteczności względem szerokości boiska (współrzędnej y). Strzały oddawane z pozycji centralnych charakteryzują się ponad 14% skuteczności, natomiast te z bocznych pozycji poniżej 5%.\n",
    "\n",
    "Współrzędne x (a raczej 120-x) oraz y wydają się dobrymi zmiennymi różnicującymi. Można jednak zdefiniować dwie bardziej intuicyjne miary:\n",
    "- **distance** - odległość od punktu, z którego oddano strzał (x,y) do środka bramki (120,40)\n",
    "- **angle** - kąt jaki tworzy się między liniami łączącymi punkt strzału (x,y) ze słupkami bramki (120,36 oraz 120,44). Miara ta opisuje jak \"duża\" jest bramka z punktu widzenia strzelca. Będzie ona prawdopodobnie silnie negatywnie skorelowana ze zmienną **distance**, gdyż wraz ze wzrostem odległości będzie malał kąt."
   ]
  },
  {
   "cell_type": "code",
   "execution_count": 14,
   "id": "9bd24f2a",
   "metadata": {},
   "outputs": [
    {
     "data": {
      "text/html": [
       "<div>\n",
       "<style scoped>\n",
       "    .dataframe tbody tr th:only-of-type {\n",
       "        vertical-align: middle;\n",
       "    }\n",
       "\n",
       "    .dataframe tbody tr th {\n",
       "        vertical-align: top;\n",
       "    }\n",
       "\n",
       "    .dataframe thead th {\n",
       "        text-align: right;\n",
       "    }\n",
       "</style>\n",
       "<table border=\"1\" class=\"dataframe\">\n",
       "  <thead>\n",
       "    <tr style=\"text-align: right;\">\n",
       "      <th></th>\n",
       "      <th>distance</th>\n",
       "      <th>angle</th>\n",
       "    </tr>\n",
       "  </thead>\n",
       "  <tbody>\n",
       "    <tr>\n",
       "      <th>count</th>\n",
       "      <td>45233.000000</td>\n",
       "      <td>45233.000000</td>\n",
       "    </tr>\n",
       "    <tr>\n",
       "      <th>mean</th>\n",
       "      <td>19.520543</td>\n",
       "      <td>24.874447</td>\n",
       "    </tr>\n",
       "    <tr>\n",
       "      <th>std</th>\n",
       "      <td>8.713346</td>\n",
       "      <td>15.362327</td>\n",
       "    </tr>\n",
       "    <tr>\n",
       "      <th>min</th>\n",
       "      <td>0.632456</td>\n",
       "      <td>0.000000</td>\n",
       "    </tr>\n",
       "    <tr>\n",
       "      <th>25%</th>\n",
       "      <td>12.376187</td>\n",
       "      <td>14.859554</td>\n",
       "    </tr>\n",
       "    <tr>\n",
       "      <th>50%</th>\n",
       "      <td>19.027612</td>\n",
       "      <td>19.278945</td>\n",
       "    </tr>\n",
       "    <tr>\n",
       "      <th>75%</th>\n",
       "      <td>25.927784</td>\n",
       "      <td>30.401229</td>\n",
       "    </tr>\n",
       "    <tr>\n",
       "      <th>max</th>\n",
       "      <td>88.833158</td>\n",
       "      <td>180.000000</td>\n",
       "    </tr>\n",
       "  </tbody>\n",
       "</table>\n",
       "</div>"
      ],
      "text/plain": [
       "           distance         angle\n",
       "count  45233.000000  45233.000000\n",
       "mean      19.520543     24.874447\n",
       "std        8.713346     15.362327\n",
       "min        0.632456      0.000000\n",
       "25%       12.376187     14.859554\n",
       "50%       19.027612     19.278945\n",
       "75%       25.927784     30.401229\n",
       "max       88.833158    180.000000"
      ]
     },
     "execution_count": 14,
     "metadata": {},
     "output_type": "execute_result"
    }
   ],
   "source": [
    "df_shots['distance'] = np.sqrt((df_shots['distance_to_end_line'])**2+(abs(40-df_shots['y']))**2)\n",
    "\n",
    "# Współrzędne słupków bramki\n",
    "left_post = [120, 36]   # lewy słupek\n",
    "right_post = [120, 44]  # prawy słupek\n",
    "\n",
    "def calculate_shot_angle(x, y):\n",
    "    # Wektory od punktu strzału do słupków\n",
    "    vector_to_left = [left_post[0] - x, left_post[1] - y]\n",
    "    vector_to_right = [right_post[0] - x, right_post[1] - y]\n",
    "    \n",
    "    # Długości wektorów\n",
    "    mag_left = np.sqrt(vector_to_left[0]**2 + vector_to_left[1]**2)\n",
    "    mag_right = np.sqrt(vector_to_right[0]**2 + vector_to_right[1]**2)\n",
    "    \n",
    "    # Iloczyn skalarny\n",
    "    dot_product = vector_to_left[0]*vector_to_right[0] + vector_to_left[1]*vector_to_right[1]\n",
    "    \n",
    "    # Kąt w radianach\n",
    "    angle_rad = np.arccos(dot_product / (mag_left * mag_right))\n",
    "    \n",
    "    # Kąt w stopniach\n",
    "    angle_deg = angle_rad * 180 / np.pi\n",
    "    \n",
    "    return angle_deg\n",
    "\n",
    "df_shots['angle'] = df_shots.apply(lambda row: calculate_shot_angle(row['x'], row['y']), axis=1)\n",
    "\n",
    "df_shots[['distance', 'angle']].describe()"
   ]
  },
  {
   "cell_type": "markdown",
   "id": "025696fc",
   "metadata": {},
   "source": [
    "Zmienna **distance** przyjmuje wartości od 0.63 (bardzo bliski strzał) do 88.8 (strzał z odległości większej niż wynosi szerokość boiska). Średnia odległość strzału to około 19.5 jednostek i niemal pokrywa się z medianą wynoszącą 19 jednostek. W przypadku kąta strzału (**angle**) wartości kształtują się od 0 (uderzenie z linii końcowej) do 180 (strzały z linii bramkowej). Średnia kształtuje się na poziomie 24.9 stopni natomiast mediana jest niższa i wynosi 19.3 stopnia.\n",
    "\n",
    "Patrząc na statystyki opisowe zmiennej angle można postawić hipotezę, że jest ona silnie skośna prawostronnie. Świadczą o tym: \n",
    "- średnia wyższa od mediany, \n",
    "- asmyetria kwartyli, gdyż rożnice między kolejnymi wartościami to: 15°, 4.5°, 11° oraz 150° (!),\n",
    "- stosunkowo wysokie odchylenie standardowe w porównaniu z rozkładem kwartyli\n",
    "\n",
    "W dalszej części przyjrzę się dokładniej domniemanej asymetrii rozkładu."
   ]
  },
  {
   "cell_type": "markdown",
   "id": "20f37062",
   "metadata": {},
   "source": [
    "### Zmienne kategorialne"
   ]
  },
  {
   "cell_type": "markdown",
   "id": "b7a947bf",
   "metadata": {},
   "source": [
    "#### Część ciała - better_foot, worse_foot, head"
   ]
  },
  {
   "cell_type": "markdown",
   "id": "33d2378f",
   "metadata": {},
   "source": [
    "Surowe dane zawarte w zmiennej **body_part** mogą mieć ograniczoną moc predykcyjną, w zwiazku z tym, że różni zawodnicy mają inną nogę domiującą, a co za tym idzie część z nich będzie preferować uderzenia nogą prawą, a część lewą. Dane StatsBomb nie zawierają informacji o tym, która noga u zawodnika jest preferowana, dominująca. W związku z tym, postanowiłem dla każdego zawodnika sprawdzić, którą nogą oddawał więcej strzałów i uznać tę nogę za jego dominującą. W przypadku sytuacji, gdy zawodnik oddał tyle samo strzałów obiema nogami postanowiłem zakwalifikować go wówczas do grupy prawonożnych, gdyż takich zawodników jest zdecydowanie więcej niż lewonożnych. Nowe dane przypisałem do zmiennej **refined_body_part**."
   ]
  },
  {
   "cell_type": "code",
   "execution_count": 15,
   "id": "026ed72a",
   "metadata": {},
   "outputs": [
    {
     "name": "stdout",
     "output_type": "stream",
     "text": [
      "foot_type\n",
      "dominant_right    67.092199\n",
      "dominant_left     32.907801\n",
      "Name: proportion, dtype: float64\n",
      "--------------------------------------------------\n",
      "refined_body_part\n",
      "better_foot    66.224153\n",
      "worse_foot     17.107334\n",
      "head           16.668514\n",
      "Name: proportion, dtype: float64\n"
     ]
    }
   ],
   "source": [
    "# Krok 1: Przygotowanie danych - kodowanie nóg (1 dla prawej, 0 dla lewej)\n",
    "foot_encoded = df_shots[df_shots['shot_body_part'].isin(['Right Foot', 'Left Foot'])].copy()\n",
    "foot_encoded['is_right_foot'] = (foot_encoded['shot_body_part'] == 'Right Foot').astype(int)\n",
    "\n",
    "# Krok 2: Obliczenie dominującej nogi dla każdego zawodnika\n",
    "player_foot_dominance = foot_encoded.groupby('player_id')['is_right_foot'].mean().reset_index()\n",
    "\n",
    "# Krok 3: Określenie dominującej nogi\n",
    "player_foot_dominance['foot_type'] = 'dominant_right'\n",
    "player_foot_dominance.loc[player_foot_dominance['is_right_foot'] <= 0.5, 'foot_type'] = 'dominant_left'\n",
    "\n",
    "# Krok 4: Połączenie informacji o typie nogi z oryginalnym zbiorem danych\n",
    "df_shots = df_shots.merge(player_foot_dominance[['player_id', 'foot_type']], on='player_id', how='left')\n",
    "\n",
    "# Krok 5: Utworzenie nowej zmiennej refined_body_part\n",
    "df_shots['refined_body_part'] = df_shots['shot_body_part']  \n",
    "\n",
    "# Aktualizacja dla strzałów nogą\n",
    "mask_right_foot = df_shots['shot_body_part'] == 'Right Foot'\n",
    "mask_left_foot = df_shots['shot_body_part'] == 'Left Foot'\n",
    "\n",
    "# Strzały dominującą lub niedominującą nogą\n",
    "df_shots.loc[mask_right_foot & (df_shots['foot_type'] == 'dominant_right'), 'refined_body_part'] = 'better_foot'\n",
    "df_shots.loc[mask_left_foot & (df_shots['foot_type'] == 'dominant_left'), 'refined_body_part'] = 'better_foot'\n",
    "df_shots.loc[mask_right_foot & (df_shots['foot_type'] == 'dominant_left'), 'refined_body_part'] = 'worse_foot'\n",
    "df_shots.loc[mask_left_foot & (df_shots['foot_type'] == 'dominant_right'), 'refined_body_part'] = 'worse_foot'\n",
    "# Strzały głową\n",
    "df_shots.loc[df_shots['shot_body_part'] == 'Head', 'refined_body_part'] = 'head'\n",
    "\n",
    "# Filtrowanie DataFrame, zostawiając tylko wiersze z wybranymi wartościami (udział other tylko 0.24%)\n",
    "df_shots = df_shots[df_shots['refined_body_part'].isin(['better_foot', 'worse_foot', 'head'])]\n",
    "\n",
    "print(player_foot_dominance['foot_type'].value_counts(normalize=True)*100)\n",
    "print(50*'-')\n",
    "print(df_shots['refined_body_part'].value_counts(normalize=True)*100)"
   ]
  },
  {
   "cell_type": "markdown",
   "id": "d2e086dd",
   "metadata": {},
   "source": [
    "Po przeprowadzeniui powyższej klasyfikacji okazało się, że w zbiorze około 67% zawodników to zawodnicy prawonożni, a 33% stanowią zawodnicy lewnonożni. Po zastosowaniu feature engineering i utworzeniu **refined_body_part** otrzymałem nowy procentowy podział strzałów i zgodnie z nim 66% strzałów oddano lepszą nogą, 17% gorszą nogą i równiez około 17% to były strzały głową. Zgodnie z wcześniejszymi ustaleniami usunąłem obserwacje z etykietą \"Others\" gdyż stanowiły one jedynie 0.24% obserwacji."
   ]
  },
  {
   "cell_type": "markdown",
   "id": "b9a485b1",
   "metadata": {},
   "source": [
    "#### Transformacja w zmienne binarne"
   ]
  },
  {
   "cell_type": "markdown",
   "id": "7bc5a18f",
   "metadata": {},
   "source": [
    "Zgodnie z wcześniejszymi założeniami część zmiennych (**under_pressure**, **normal_shot**, **shot_first_time**, **open_play_shot**) przekształcam w zmienne binarne. Natomiast obserwacje z wartością *Corner* dla zmiennej **shot_type** usuwam ze zbioru (tylko 0.02% obserwacji)."
   ]
  },
  {
   "cell_type": "code",
   "execution_count": 16,
   "id": "c4ec1371",
   "metadata": {},
   "outputs": [
    {
     "data": {
      "text/html": [
       "<div>\n",
       "<style scoped>\n",
       "    .dataframe tbody tr th:only-of-type {\n",
       "        vertical-align: middle;\n",
       "    }\n",
       "\n",
       "    .dataframe tbody tr th {\n",
       "        vertical-align: top;\n",
       "    }\n",
       "\n",
       "    .dataframe thead th {\n",
       "        text-align: right;\n",
       "    }\n",
       "</style>\n",
       "<table border=\"1\" class=\"dataframe\">\n",
       "  <thead>\n",
       "    <tr style=\"text-align: right;\">\n",
       "      <th></th>\n",
       "      <th>shot_outcome</th>\n",
       "      <th>under_pressure</th>\n",
       "      <th>shot_technique</th>\n",
       "      <th>shot_body_part</th>\n",
       "      <th>shot_type</th>\n",
       "      <th>shot_first_time</th>\n",
       "      <th>shot_open_goal</th>\n",
       "      <th>shot_one_on_one</th>\n",
       "      <th>shot_follows_dribble</th>\n",
       "      <th>shot_freeze_frame</th>\n",
       "      <th>...</th>\n",
       "      <th>y</th>\n",
       "      <th>distance_to_end_line</th>\n",
       "      <th>x_quantile</th>\n",
       "      <th>y_quantile</th>\n",
       "      <th>distance</th>\n",
       "      <th>angle</th>\n",
       "      <th>foot_type</th>\n",
       "      <th>refined_body_part</th>\n",
       "      <th>normal_shot</th>\n",
       "      <th>open_play_shot</th>\n",
       "    </tr>\n",
       "  </thead>\n",
       "  <tbody>\n",
       "    <tr>\n",
       "      <th>0</th>\n",
       "      <td>1</td>\n",
       "      <td>1</td>\n",
       "      <td>Normal</td>\n",
       "      <td>Head</td>\n",
       "      <td>Open Play</td>\n",
       "      <td>0</td>\n",
       "      <td>NaN</td>\n",
       "      <td>NaN</td>\n",
       "      <td>NaN</td>\n",
       "      <td>[{'location': [111.5, 8.3], 'player': {'id': 8...</td>\n",
       "      <td>...</td>\n",
       "      <td>35.7</td>\n",
       "      <td>8.0</td>\n",
       "      <td>2</td>\n",
       "      <td>5</td>\n",
       "      <td>9.082401</td>\n",
       "      <td>43.906819</td>\n",
       "      <td>dominant_right</td>\n",
       "      <td>head</td>\n",
       "      <td>1</td>\n",
       "      <td>1</td>\n",
       "    </tr>\n",
       "    <tr>\n",
       "      <th>1</th>\n",
       "      <td>0</td>\n",
       "      <td>0</td>\n",
       "      <td>Normal</td>\n",
       "      <td>Left Foot</td>\n",
       "      <td>Open Play</td>\n",
       "      <td>0</td>\n",
       "      <td>NaN</td>\n",
       "      <td>NaN</td>\n",
       "      <td>NaN</td>\n",
       "      <td>[{'location': [99.1, 42.5], 'player': {'id': 5...</td>\n",
       "      <td>...</td>\n",
       "      <td>19.5</td>\n",
       "      <td>23.9</td>\n",
       "      <td>11</td>\n",
       "      <td>0</td>\n",
       "      <td>31.487458</td>\n",
       "      <td>11.089952</td>\n",
       "      <td>dominant_left</td>\n",
       "      <td>better_foot</td>\n",
       "      <td>1</td>\n",
       "      <td>1</td>\n",
       "    </tr>\n",
       "    <tr>\n",
       "      <th>2</th>\n",
       "      <td>0</td>\n",
       "      <td>1</td>\n",
       "      <td>Normal</td>\n",
       "      <td>Head</td>\n",
       "      <td>Open Play</td>\n",
       "      <td>0</td>\n",
       "      <td>NaN</td>\n",
       "      <td>NaN</td>\n",
       "      <td>NaN</td>\n",
       "      <td>[{'location': [105.5, 29.6], 'player': {'id': ...</td>\n",
       "      <td>...</td>\n",
       "      <td>41.2</td>\n",
       "      <td>9.7</td>\n",
       "      <td>3</td>\n",
       "      <td>8</td>\n",
       "      <td>9.773945</td>\n",
       "      <td>44.296281</td>\n",
       "      <td>dominant_left</td>\n",
       "      <td>head</td>\n",
       "      <td>1</td>\n",
       "      <td>1</td>\n",
       "    </tr>\n",
       "    <tr>\n",
       "      <th>3</th>\n",
       "      <td>0</td>\n",
       "      <td>0</td>\n",
       "      <td>Half Volley</td>\n",
       "      <td>Left Foot</td>\n",
       "      <td>Open Play</td>\n",
       "      <td>1</td>\n",
       "      <td>NaN</td>\n",
       "      <td>NaN</td>\n",
       "      <td>NaN</td>\n",
       "      <td>[{'location': [108.1, 30.7], 'player': {'id': ...</td>\n",
       "      <td>...</td>\n",
       "      <td>23.4</td>\n",
       "      <td>9.5</td>\n",
       "      <td>3</td>\n",
       "      <td>0</td>\n",
       "      <td>19.126160</td>\n",
       "      <td>12.257634</td>\n",
       "      <td>dominant_right</td>\n",
       "      <td>worse_foot</td>\n",
       "      <td>0</td>\n",
       "      <td>1</td>\n",
       "    </tr>\n",
       "    <tr>\n",
       "      <th>4</th>\n",
       "      <td>0</td>\n",
       "      <td>0</td>\n",
       "      <td>Normal</td>\n",
       "      <td>Right Foot</td>\n",
       "      <td>Open Play</td>\n",
       "      <td>1</td>\n",
       "      <td>NaN</td>\n",
       "      <td>NaN</td>\n",
       "      <td>NaN</td>\n",
       "      <td>[{'location': [97.0, 55.6], 'player': {'id': 5...</td>\n",
       "      <td>...</td>\n",
       "      <td>56.0</td>\n",
       "      <td>15.3</td>\n",
       "      <td>7</td>\n",
       "      <td>14</td>\n",
       "      <td>22.137976</td>\n",
       "      <td>14.476435</td>\n",
       "      <td>dominant_right</td>\n",
       "      <td>better_foot</td>\n",
       "      <td>1</td>\n",
       "      <td>1</td>\n",
       "    </tr>\n",
       "  </tbody>\n",
       "</table>\n",
       "<p>5 rows × 23 columns</p>\n",
       "</div>"
      ],
      "text/plain": [
       "   shot_outcome  under_pressure shot_technique shot_body_part  shot_type  \\\n",
       "0             1               1         Normal           Head  Open Play   \n",
       "1             0               0         Normal      Left Foot  Open Play   \n",
       "2             0               1         Normal           Head  Open Play   \n",
       "3             0               0    Half Volley      Left Foot  Open Play   \n",
       "4             0               0         Normal     Right Foot  Open Play   \n",
       "\n",
       "   shot_first_time shot_open_goal shot_one_on_one shot_follows_dribble  \\\n",
       "0                0            NaN             NaN                  NaN   \n",
       "1                0            NaN             NaN                  NaN   \n",
       "2                0            NaN             NaN                  NaN   \n",
       "3                1            NaN             NaN                  NaN   \n",
       "4                1            NaN             NaN                  NaN   \n",
       "\n",
       "                                   shot_freeze_frame  ...     y  \\\n",
       "0  [{'location': [111.5, 8.3], 'player': {'id': 8...  ...  35.7   \n",
       "1  [{'location': [99.1, 42.5], 'player': {'id': 5...  ...  19.5   \n",
       "2  [{'location': [105.5, 29.6], 'player': {'id': ...  ...  41.2   \n",
       "3  [{'location': [108.1, 30.7], 'player': {'id': ...  ...  23.4   \n",
       "4  [{'location': [97.0, 55.6], 'player': {'id': 5...  ...  56.0   \n",
       "\n",
       "   distance_to_end_line  x_quantile  y_quantile   distance      angle  \\\n",
       "0                   8.0           2           5   9.082401  43.906819   \n",
       "1                  23.9          11           0  31.487458  11.089952   \n",
       "2                   9.7           3           8   9.773945  44.296281   \n",
       "3                   9.5           3           0  19.126160  12.257634   \n",
       "4                  15.3           7          14  22.137976  14.476435   \n",
       "\n",
       "        foot_type  refined_body_part  normal_shot open_play_shot  \n",
       "0  dominant_right               head            1              1  \n",
       "1   dominant_left        better_foot            1              1  \n",
       "2   dominant_left               head            1              1  \n",
       "3  dominant_right         worse_foot            0              1  \n",
       "4  dominant_right        better_foot            1              1  \n",
       "\n",
       "[5 rows x 23 columns]"
      ]
     },
     "execution_count": 16,
     "metadata": {},
     "output_type": "execute_result"
    }
   ],
   "source": [
    "df_shots['under_pressure'] = [1 if x==True else 0 for x in df_shots['under_pressure']]\n",
    "df_shots['normal_shot'] = [1 if x=='Normal' else 0 for x in df_shots['shot_technique']]\n",
    "df_shots['shot_first_time'] = [1 if x==True else 0 for x in df_shots['shot_first_time']]\n",
    "\n",
    "\n",
    "df_shots = df_shots[df_shots['shot_type']!='Corner'] #tylko 0.02% obserwacji\n",
    "df_shots['open_play_shot'] = [1 if x=='Open Play' else 0 for x in df_shots['shot_type']]\n",
    "\n",
    "df_shots = df_shots.reset_index(drop=True)\n",
    "df_shots.head()"
   ]
  },
  {
   "cell_type": "markdown",
   "id": "f91dcaad",
   "metadata": {},
   "source": [
    "#### Transformacja shot_freeze_frame w defenders_in_path oraz goalkeeper_in_path"
   ]
  },
  {
   "cell_type": "markdown",
   "id": "5dcd1ba5",
   "metadata": {},
   "source": [
    "Użyteczne informacje można wyciągnąć ze zmiennej **shot_freeze_frame**. Zawiera ona współrzędne lokalizacji zawodników w momencie oddania strzału. Dzięki temu możliwe jest określenie ilu obrońców znajdowało się w świetle bramki oraz czy bramkarz znajdował się na drodze piłki. Jako obszar \"w świetle bramki\" uznałem trójkąt wyznaczony przez zawodnika strzelającego oraz słupki bramki. Jeżeli obrońca lub bramkarz znajdował się w tym trójkącie to zakwalifikowałem go jako obecnego na linii strzału (gdyż w praktyce zasłaniał on część bramki przed strzelcem). "
   ]
  },
  {
   "cell_type": "code",
   "execution_count": 17,
   "id": "67dacf93",
   "metadata": {},
   "outputs": [],
   "source": [
    "# transformacja shot_freeze_frame (string) do struktury Pythona\n",
    "def parse_freeze_frame(freeze_frame_str):\n",
    "    if isinstance(freeze_frame_str, str):\n",
    "        try:\n",
    "            return ast.literal_eval(freeze_frame_str)\n",
    "        except (ValueError, SyntaxError):\n",
    "            return None\n",
    "    return freeze_frame_str\n",
    "\n",
    "df_shots['shot_freeze_frame'] = df_shots['shot_freeze_frame'].apply(parse_freeze_frame)"
   ]
  },
  {
   "cell_type": "code",
   "execution_count": 18,
   "id": "f08b4cd7",
   "metadata": {},
   "outputs": [],
   "source": [
    "def analyze_shot_path(freeze_frame, shooter_x, shooter_y, goal_left=[120, 36], goal_right=[120, 44]):\n",
    "\n",
    "    shooter_loc = [shooter_x, shooter_y]\n",
    "    \n",
    "    # Funkcja pomocnicza do sprawdzenia czy punkt jest po lewej stronie linii\n",
    "    def is_left(p0, p1, p2):\n",
    "        return ((p1[0] - p0[0])*(p2[1] - p0[1]) - (p1[1] - p0[1])*(p2[0] - p0[0])) > 0\n",
    "    \n",
    "    # Liczniki\n",
    "    defenders_count = 0\n",
    "    goalkeeper_in_path = 0\n",
    "    \n",
    "    for player in freeze_frame:\n",
    "        # Pomijanie graczy z drużyny strzelającej\n",
    "        if player.get('teammate', True) == True or 'location' not in player:\n",
    "            continue\n",
    "        \n",
    "        # Sprawdzenie lokalizacji względem trójkąta\n",
    "        is_inside = (is_left(shooter_loc, goal_left, player['location']) != \n",
    "                     is_left(shooter_loc, goal_right, player['location']))\n",
    "        \n",
    "        if is_inside and player['location'][0] > shooter_loc[0]:\n",
    "            if player.get('position', {}).get('name') == 'Goalkeeper':\n",
    "                goalkeeper_in_path = 1\n",
    "            else:\n",
    "                defenders_count += 1\n",
    "    \n",
    "    return defenders_count, goalkeeper_in_path\n",
    "\n",
    "# Wywołanie funkcji\n",
    "result = df_shots.apply(\n",
    "    lambda row: analyze_shot_path(\n",
    "        row['shot_freeze_frame'], \n",
    "        row['x'], \n",
    "        row['y']\n",
    "    ), \n",
    "    axis=1\n",
    ")\n",
    "\n",
    "df_shots['defenders_in_path'] = result.apply(lambda x: x[0] if x is not None else None)\n",
    "df_shots['goalkeeper_in_path'] = result.apply(lambda x: x[1] if x is not None else None)"
   ]
  },
  {
   "cell_type": "code",
   "execution_count": 19,
   "id": "e5ca16c5",
   "metadata": {},
   "outputs": [
    {
     "name": "stdout",
     "output_type": "stream",
     "text": [
      "Częstotoliwości dla utworzonych zmiennych:\n",
      "--------------------------------------------------\n",
      "defenders_in_path\n",
      "0    48.574532\n",
      "1    34.255564\n",
      "2    10.949277\n",
      "3     4.123437\n",
      "4     1.562916\n",
      "5     0.434513\n",
      "6     0.077592\n",
      "7     0.015518\n",
      "8     0.006651\n",
      "Name: proportion, dtype: float64\n",
      "--------------------------------------------------\n",
      "goalkeeper_in_path\n",
      "1    96.056132\n",
      "0     3.943868\n",
      "Name: proportion, dtype: float64\n"
     ]
    }
   ],
   "source": [
    "print(\"Częstotoliwości dla utworzonych zmiennych:\")\n",
    "print(50*'-')\n",
    "print(df_shots['defenders_in_path'].value_counts(normalize=True)*100)\n",
    "print(50*'-')\n",
    "print(df_shots['goalkeeper_in_path'].value_counts(normalize=True)*100)\n"
   ]
  },
  {
   "cell_type": "markdown",
   "id": "497047c0",
   "metadata": {},
   "source": [
    "Zmienna **defenders_in_path** przyjmuje wartości od 0 do 8. Jednak zdecydowanie widać, że mniejsze wartości wyraźnie przeważają. W blisko 49% przypadków na drodze strzału nie było żadnego obrońcy, w 34% przypadków był jeden obrońca, w 11% akcji dwóch obrońców, a w 4% strzałów tych obrońców było trzech. Kolejne wartości są na tyle nieliczne, że postanowiłem je zgrupować razem z wartością 3.\n",
    "\n",
    "Z kolei zmienna **goalkeeper_in_path** to zmienna binarna, która przyjmuje wartośc 1 gdy bramkarz był w promieniu strzału oraz 0 w przeciwnym wypadku. W 96% strzałów bramkarz znajdował się między strzlecem a bramką. "
   ]
  },
  {
   "cell_type": "code",
   "execution_count": 20,
   "id": "6ac5a823",
   "metadata": {},
   "outputs": [],
   "source": [
    "df_shots['defenders_in_path'] = np.where(df_shots['defenders_in_path'] >= 3, 3, df_shots['defenders_in_path'])"
   ]
  },
  {
   "cell_type": "markdown",
   "id": "a93ca2ec",
   "metadata": {},
   "source": [
    "Niskie liczby obrońców znajdujących się na ścieżce strzału mogą wydawać się mało intuicyjne. Wydaje się, że strzałów oddawanych w gąszcz obrońców widuje się całkiem sporo. Warto jednak zastanowić się nad poniższymi argumentami:\n",
    "\n",
    "- Dynamika akcji ofensywnych - Profesjonalne drużyny celowo konstruują akcje tak, by izolować obrońców i tworzyć przestrzenie. Dobrze przeprowadzony atak prowadzi do sytuacji, w której na linii strzału znajduje się minimalna liczba przeciwników.\n",
    "- Geometria boiska - Przestrzeń przed bramką jest ograniczona, a zawodnicy atakujący poruszają się w sposób, który naturalnie rozciąga formacje obronne. Każdy napastnik próbuje znaleźć tak zwaną \"lukę\" w obronie, co z definicji oznacza minimalizację liczby obrońców na linii strzału.\n",
    "\n",
    "Jak się okazuje zawodnicy atakujący przykładają dużą wagę do tego by choć na chwile znaleźć przestrzeń do oddania jak najczystszego strzału. Oczywiście nie zawsze jest to możliwe, dużo zależy również od sposobu w jaki broni się drużyna przeciwna.\n",
    "\n",
    "W celu lepszego zobrazowania omawianych sytuacji przygotowałem również wizualizacje ukazującą strzały zgromadzone w omawianym zbiorze danych. Wpisując losową liczbę od 0 do 45107 można zobaczyć jak wyglądało ustawienie zawodników w momencie strzału. Zauważalne jest to, że często obrońcy byli blisko trójkąta oznaczającego promień strzału. Świadczy to o tym, że rzeczywiście napastnicy starają się znaleźć ten moment kiedy liczba potencjalnych przecwiników na linii uderzenia jest najmniejsza."
   ]
  },
  {
   "cell_type": "code",
   "execution_count": null,
   "id": "f7598ceb",
   "metadata": {},
   "outputs": [],
   "source": [
    "# Indeks strzału do analizy\n",
    "n = int(input(\"Shot number: \"))\n",
    "\n",
    "# Pobranie danych o ustawieniu zawodników z DataFrame\n",
    "freeze_frame = df_shots.loc[n, 'shot_freeze_frame']\n",
    "\n",
    "# Pobieranie lokalizacji strzelca i bramki\n",
    "striker_x = df_shots.loc[n, 'x']\n",
    "striker_y = df_shots.loc[n, 'y']\n",
    "goal_left = [120, 36]\n",
    "goal_right = [120, 44]\n",
    "\n",
    "# Zliczenie obrońców i bramkarza\n",
    "defenders_count, goalkeeper_in_path = analyze_shot_path(\n",
    "    freeze_frame, striker_x, striker_y, goal_left, goal_right\n",
    ")\n",
    "\n",
    "# Tworzenie wykresu\n",
    "pitch = VerticalPitch(pitch_type='statsbomb', pitch_color='grass', line_color='white', \n",
    "                     goal_type='line', half=True)\n",
    "fig, ax = pitch.draw(figsize=(8, 10))\n",
    "\n",
    "for player in freeze_frame:\n",
    "    x, y = player['location']\n",
    "    \n",
    "    # Bez zawodników z własnej połowy\n",
    "    if x < 60:\n",
    "        continue\n",
    "    \n",
    "    if player.get('teammate', False):\n",
    "        jersey_color = 'blue'\n",
    "    else:\n",
    "        if player.get('position', {}).get('name') == 'Goalkeeper':\n",
    "            jersey_color = 'yellow'\n",
    "        else:\n",
    "            jersey_color = 'red'\n",
    "    \n",
    "    ax.plot(y, x, 'o', markersize=10, color=jersey_color, zorder=2)\n",
    "    \n",
    "if striker_x >= 60:\n",
    "    ax.plot(striker_y, striker_x, 'o', markersize=12, color='lime', zorder=4)\n",
    "    ax.text(striker_y, striker_x - 3, f\"STRZELEC\", ha='center', fontsize=10, fontweight='bold', \n",
    "            bbox=dict(facecolor='white', alpha=0.7, edgecolor='black', pad=1), zorder=5)\n",
    "    \n",
    "    # Linie strzału\n",
    "    ax.plot([striker_y, goal_left[1]], [striker_x, goal_left[0]], 'k--', alpha=0.7, zorder=1)\n",
    "    ax.plot([striker_y, goal_right[1]], [striker_x, goal_right[0]], 'k--', alpha=0.7, zorder=1)\n",
    "    \n",
    "    # Trójkąt strzału\n",
    "    triangle = plt.Polygon(\n",
    "        [[striker_y, striker_x], [goal_left[1], goal_left[0]], [goal_right[1], goal_right[0]]],\n",
    "        alpha=0.4, color='yellow', zorder=0\n",
    "    )\n",
    "    ax.add_patch(triangle)\n",
    "\n",
    "title = f\"Strzał #{n} | Obrońcy w ścieżce: {defenders_count} | Bramkarz w ścieżce: {'Tak' if goalkeeper_in_path == 1 else 'Nie'}\"\n",
    "ax.set_title(title)\n",
    "\n",
    "# Legenda\n",
    "from matplotlib.lines import Line2D\n",
    "legend_elements = [\n",
    "    Line2D([0], [0], marker='o', color='w', markerfacecolor='blue', markersize=10, label='Drużyna strzelająca'),\n",
    "    Line2D([0], [0], marker='o', color='w', markerfacecolor='red', markersize=10, label='Drużyna broniąca'),\n",
    "    Line2D([0], [0], marker='o', color='w', markerfacecolor='yellow', markersize=10, label='Bramkarz'),\n",
    "    Line2D([0], [0], marker='o', color='w', markerfacecolor='lime', markersize=10, label='Strzelec')\n",
    "]\n",
    "ax.legend(handles=legend_elements, loc='upper right')\n",
    "plt.tight_layout()\n",
    "plt.show()"
   ]
  },
  {
   "cell_type": "markdown",
   "id": "f1c79776",
   "metadata": {},
   "source": [
    "## Eksploracja danych"
   ]
  },
  {
   "cell_type": "markdown",
   "id": "e25bd054",
   "metadata": {},
   "source": [
    "### Analiza zmiennych binarnych względem zmiennej objaśnianej"
   ]
  },
  {
   "cell_type": "code",
   "execution_count": null,
   "id": "9a625325",
   "metadata": {},
   "outputs": [],
   "source": [
    "bin_features = ['under_pressure', 'shot_first_time', 'normal_shot', 'open_play_shot', 'goalkeeper_in_path']\n",
    "fig, axs = plt.subplots(2, 3, figsize=(10, 8))\n",
    "\n",
    "# Płaska lista subplotów dla łatwiejszej iteracji\n",
    "axs_flat = axs.flatten()\n",
    "\n",
    "# Iteracja przez zmienne binarne\n",
    "for i, feature in enumerate(bin_features):\n",
    "    # Obliczanie procentu goli dla każdej wartości\n",
    "    goal_rate_0 = df_shots[df_shots[feature] == 0]['shot_outcome'].mean() * 100\n",
    "    goal_rate_1 = df_shots[df_shots[feature] == 1]['shot_outcome'].mean() * 100\n",
    "    \n",
    "    # Rysowanie wykresu słupkowego\n",
    "    axs_flat[i].bar(['Nie', 'Tak'], [goal_rate_0, goal_rate_1], color='blue', alpha=0.8)\n",
    "    axs_flat[i].set_title(f'Procent goli: {feature}')\n",
    "    \n",
    "    # Dodanie etykiety osi Y tylko dla wykresów po lewej stronie\n",
    "    if i % 3 == 0: \n",
    "        axs_flat[i].set_ylabel('% goli')\n",
    "\n",
    "axs_flat[-1].set_visible(False)\n",
    "\n",
    "plt.grid(axis='y', linestyle='--', alpha=0.8)\n",
    "plt.tight_layout()\n",
    "plt.show()"
   ]
  },
  {
   "cell_type": "markdown",
   "id": "c02df48d",
   "metadata": {},
   "source": [
    "##### Under_pressure (Strzał pod presją)\n",
    "- Strzały bez presji mają nieco wyższą skuteczność (ok. 9.8%) niż strzały pod presją (ok. 9.0%)\n",
    "- Różnica jest stosunkowo niewielka, co sugeruje, że presja przeciwnika ma umiarkowany wpływ na skuteczność\n",
    "\n",
    "##### Shot_first_time (Strzał z pierwszej piłki)\n",
    "- Strzały z pierwszej piłki mają znacznie wyższą skuteczność (ok. 12.5%) niż strzały poprzedzone kontrolą piłki (ok. 8%)\n",
    "- To może wynikać z elementu zaskoczenia dla bramkarza lub faktu, że strzały z pierwszej piłki są zazwyczaj oddawane w lepszych sytuacjach\n",
    "\n",
    "##### Normal_shot (Normalny strzał)\n",
    "- Normalne strzały mają wyższą skuteczność (ok. 10.7%) niż strzały wykonywane specjalnymi technikami (ok. 8.9%)\n",
    "- Sugeruje to, że prostsze uderzenia są często bardziej efektywne niż skomplikowane techniki\n",
    "\n",
    "##### Open_play_shot (Strzał z gry)\n",
    "- Strzały z akcji mają wyższą skuteczność (ok. 9.7%) niż strzały bezpośrednio ze stałych fragmentów gry (ok. 6.0%)\n",
    "- Ten wynik może być zaskakujący, bo stałe fragmenty gry są często uważane za dobre okazje bramkowe, ale z drugiej strony zarówno obrońcy jak i bramkarz są lepiej przygotowani na strzał.\n",
    "\n",
    "##### Goalkeeper_in_path (Bramkarz na linii strzału)\n",
    "- Tutaj widać najdramatyczniejszą różnicę: strzały bez bramkarza na linii mają skuteczność ok. 37.5%, podczas gdy strzały z bramkarzem na drodze tylko ok. 8.5%\n",
    "- To potwierdza kluczową rolę bramkarza w obronie bramki - jego obecność w ścieżce strzału zmniejsza szansę na gola ponad czterokrotnie\n",
    "\n",
    "Ta analiza pokazuje, że dla modelu xG najistotniejszą zmienną powinna być obecność bramkarza na linii strzału. Inne zmienne, takie jak strzał z pierwszej piłki czy normalny strzał, również mają zauważalny wpływ na prawdopodobieństwo zdobycia bramki."
   ]
  },
  {
   "cell_type": "markdown",
   "id": "f8c941cc",
   "metadata": {},
   "source": [
    "### Analiza skuteczności strzału w zależności od części ciała *(refined_body_part)*"
   ]
  },
  {
   "cell_type": "code",
   "execution_count": null,
   "id": "c783c3ea",
   "metadata": {},
   "outputs": [],
   "source": [
    "fig, ax = plt.subplots(figsize=(8, 5))\n",
    "\n",
    "# Grupowanie danych według części ciała i wyniku strzału\n",
    "body_part_counts = df_shots.groupby(['refined_body_part', 'shot_outcome']).size().unstack(fill_value=0)\n",
    "\n",
    "if set(body_part_counts.columns) == {0, 1}:\n",
    "    body_part_counts.columns = ['Non-gol', 'Gol']\n",
    "\n",
    "# Sortowanie według łącznej liczby strzałów\n",
    "body_part_total = body_part_counts.sum(axis=1).sort_values(ascending=False)\n",
    "body_part_counts = body_part_counts.loc[body_part_total.index]\n",
    "\n",
    "body_part_counts.plot(kind='bar', stacked=True, ax=ax, color=['red', 'green'], alpha=0.8)\n",
    "\n",
    "# Ustawienia osi i tytułu\n",
    "ax.set_title('Strzały według części ciała')\n",
    "ax.set_xlabel('Część ciała')\n",
    "ax.set_ylabel('Liczba strzałów')\n",
    "ax.legend(title=\"Wynik strzału\")\n",
    "\n",
    "# Dodajemy procentowe etykiety dla goli\n",
    "for i, part in enumerate(body_part_counts.index):\n",
    "    total = body_part_counts.loc[part].sum()\n",
    "    if total > 0:  \n",
    "        goal_rate = body_part_counts.loc[part, 'Gol'] / total * 100\n",
    "        ax.text(i, total + 5, f\"{goal_rate:.1f}%\", ha='center', fontweight='bold', size=12)\n",
    "\n",
    "plt.grid(axis='y', linestyle='--', alpha=0.7)\n",
    "plt.xticks(rotation=45)\n",
    "plt.tight_layout()\n",
    "plt.show()\n"
   ]
  },
  {
   "cell_type": "markdown",
   "id": "03188974",
   "metadata": {},
   "source": [
    "Najwięcej strzałów jest oddawanych lepszą nogą, udział strzałów oddanych gorszą nogą jest porównywalny do strzałów oddanych głową. Mimo to skuteczność dla wszystkich częsci ciała jest podobna i wynosi około 9-11%. Zaskakujące wydaje się to, że skuteczność strzałów lepszą nogą nie jest wyższa niż tych oddawanych gorszą. Z czego to może wynikać? Uderzając lepszą nogą piłkarze mogą być bardziej skłonni do ryzyka, tj. uderzenia z większego dystansu czy nieprzygotowanej pozycji. Dodatkowo w przypadku piłkarzy z silnie dominującą jedną nogą może być łatwiej \"przeczytać\" obroncą i bramkarzowi (choć istnieją wyjątki jak legendarny Arjen Robben i jego zejście na lewą nogę).\n"
   ]
  },
  {
   "cell_type": "code",
   "execution_count": null,
   "id": "a9a97741",
   "metadata": {},
   "outputs": [],
   "source": [
    "# Podział dystansu na kwantyle\n",
    "df_shots['distance_quantile'] = pd.qcut(df_shots['distance'], q=10, labels=False)\n",
    "\n",
    "# Analiza procentowa\n",
    "quantile_distribution = df_shots.groupby(['distance_quantile', 'refined_body_part']).size().unstack(fill_value=0)\n",
    "quantile_percentage = quantile_distribution.div(quantile_distribution.sum(axis=1), axis=0) * 100\n",
    "\n",
    "# Wizualizacja\n",
    "plt.figure(figsize=(10, 6))\n",
    "quantile_percentage.plot(kind='bar', stacked=True, alpha=0.8)\n",
    "plt.title('Procentowy udział części ciała w strzałach według kwantyli dystansu')\n",
    "plt.xlabel('Kwantyl dystansu')\n",
    "plt.ylabel('Procent strzałów (%)')\n",
    "plt.legend(title='Część ciała', loc='lower right')\n",
    "plt.tight_layout()"
   ]
  },
  {
   "cell_type": "markdown",
   "id": "5d570445",
   "metadata": {},
   "source": [
    "Powyższy wykres zdaje się potwierdzać tezę, że strzały lepszą nogą są zwykle oddawana z gorszej pozycji, z dalszej odległości. Po podzieleniu strzałów na 10 równolicznych kwantyli okazuje się, że w najniższych kwantylach (najlepsze pozycje) udział strzałów lepszą nogą to jedynie około 30%, natomiast w ostatnich czterech kwantylach ten udział przekracza 80%. Odwrotną sytuację widzimy ze strzałami głową - blisko 60% w pierwszym kwantylu i stopniowy spadek aż do szczątkowych wartości w 6. kwantylu. W przypadku strzałów słabszą nogą widzimy mały udział (ok.10-15%) w pierwszych kwantylach co jest spowodowane dużym udziałem strzałów głową. Natomiast wraz ze spadkiem udziału tej kategorii widzimy wzrost udziału strzałów słabszą nogą aż do kwantyli 4 i 5 kiedy to następuje stopniowe ustępowaniem strzałom wykonanym lepszą nogą. Powyższa obserwacja sygnalizuje, że choć całościwo skutecznośc nie jest zrożnicowana dla różnych częsci ciała to jednak wraz ze zmienną *distance* może pozytywnie wpłynąć na moc predykcyjną modelu."
   ]
  },
  {
   "cell_type": "markdown",
   "id": "173984d9",
   "metadata": {},
   "source": [
    "### Analiza zmiennej porządkowej *(defenders_in_path)*"
   ]
  },
  {
   "cell_type": "code",
   "execution_count": null,
   "id": "a47e88cf",
   "metadata": {},
   "outputs": [],
   "source": [
    "# Grupowanie danych według liczby obrońców w ścieżce i wyniku strzału\n",
    "defenders_counts = df_shots.groupby(['defenders_in_path', 'shot_outcome']).size().unstack(fill_value=0)\n",
    "\n",
    "# Zmieniamy nazwy kolumn dla czytelności\n",
    "if set(defenders_counts.columns) == {0, 1}:\n",
    "    defenders_counts.columns = ['Nie-gol', 'Gol']\n",
    "\n",
    "# Tworzymy wykres\n",
    "fig, ax = plt.subplots(figsize=(8, 5))\n",
    "\n",
    "# Rysowanie skumulowanego wykresu słupkowego\n",
    "defenders_counts.plot(kind='bar', stacked=True, ax=ax, \n",
    "                     color=['red', 'green'], alpha=0.8)\n",
    "\n",
    "# Dodajemy etykiety i tytuł\n",
    "ax.set_title('Skuteczność strzałów według liczby obrońców w ścieżce strzału', fontsize=14)\n",
    "ax.set_xlabel('Liczba obrońców w ścieżce strzału', fontsize=12)\n",
    "ax.set_ylabel('Liczba strzałów', fontsize=12)\n",
    "\n",
    "# Dodajemy procenty goli nad każdym słupkiem\n",
    "for i, defenders in enumerate(defenders_counts.index):\n",
    "    total = defenders_counts.loc[defenders].sum()\n",
    "    if total > 0:  # Unikamy dzielenia przez zero\n",
    "        goal_rate = defenders_counts.loc[defenders, 'Gol'] / total * 100\n",
    "        ax.text(i, total + 5, f\"{goal_rate:.1f}%\", ha='center', fontweight='bold', size=12)\n",
    "\n",
    "ax.legend(title='Wynik strzału')\n",
    "\n",
    "plt.grid(axis='y', linestyle='--', alpha=0.8)\n",
    "plt.xticks(rotation=0)\n",
    "plt.tight_layout()\n",
    "plt.show()"
   ]
  },
  {
   "cell_type": "markdown",
   "id": "d37444f4",
   "metadata": {},
   "source": [
    "1. **Strzały bez obrońców w ścieżce** (kategoria 0) mają najwyższą skuteczność - 13.8% tych strzałów kończy się bramką. Stanowią one również największą grupę wszystkich strzałów.\n",
    "\n",
    "2. **Strzały z jednym obrońcą** mają już znacznie niższą skuteczność - tylko 5.8% kończy się golem, co stanowi spadek o ponad połowę w porównaniu do sytuacji bez obrońców.\n",
    "\n",
    "3. **Strzały z dwoma obrońcami** mają jeszcze niższą skuteczność - 4.6%, choć spadek w porównaniu z jednym obrońcą jest już mniejszy.\n",
    "\n",
    "4. **Strzały z trzema obrońcami** mają podobną skuteczność jak z dwoma - 4.9%. Ta niewielka różnica (a nawet lekki wzrost) może sugerować, że po przekroczeniu dwóch obrońców, dodatkowi obrońcy nie wpływają już tak istotnie na trudność strzału.\n",
    "\n",
    "5. **Liczebność kategorii** maleje wraz ze wzrostem liczby obrońców, co jest logiczne - trudniej jest oddać strzał, gdy więcej przeciwników znajduje się na jego drodze.\n",
    "\n",
    "Ta analiza jasno pokazuje, że liczba obrońców w ścieżce strzału jest bardzo ważnym czynnikiem przy modelowaniu xG. Szczególnie istotna jest różnica między strzałami bez obrońców a strzałami z choćby jednym obrońcą w ścieżce, co jest istotnym sygnałem dla drużyn broniących, że nawet jeden obrońca potrafi znacząco utrudnić zdobycie bramki.\n",
    "\n",
    "Wynik dla trzech obrońców (nieco wyższy niż dla dwóch) może wynikać z mniejszej liczby obserwacji w tej kategorii."
   ]
  },
  {
   "cell_type": "markdown",
   "id": "1dd329e5",
   "metadata": {},
   "source": [
    "### Zmienne ciągłe: odległosć i kąt strzału"
   ]
  },
  {
   "cell_type": "code",
   "execution_count": null,
   "id": "aa53c0e9",
   "metadata": {},
   "outputs": [],
   "source": [
    "df_shots['distance_quantile'] = pd.qcut(df_shots['distance'], q=5, labels=False)\n",
    "df_shots['angle_quantile'] = pd.qcut(df_shots['angle'], q=5, labels=False)\n",
    "\n",
    "df_heatmap = df_shots.groupby(['distance_quantile', 'angle_quantile'])['shot_outcome'].mean().unstack()\n",
    "\n",
    "plt.figure(figsize=(10, 6))\n",
    "sns.heatmap(df_heatmap, annot=True, cmap='RdYlGn', fmt=\".2f\")\n",
    "plt.title('Skuteczność strzałów w zależności od dystansu i kąta')\n",
    "plt.xlabel('Kwantyl kąta strzału')\n",
    "plt.ylabel('Kwantyl dystansu')\n",
    "plt.show()\n",
    "\n",
    "\n",
    "print(print(df_shots[['angle', 'distance']].corr()))"
   ]
  },
  {
   "cell_type": "markdown",
   "id": "8e37aa50",
   "metadata": {},
   "source": [
    "Analiza heatmapy przedstawiającej skuteczność strzałów w zależności od kąta i odległości od bramki oraz obliczona macierz korelacji prowadzą do następujących wniosków:\n",
    "\n",
    "1. **Silna negatywna korelacja** między zmiennymi (r = -0.75) potwierdza geometryczną zależność - im większa odległość od bramki, tym mniejszy kąt strzału.\n",
    "\n",
    "2. **Najwyższa skuteczność strzałów** (0.24, czyli 24%) występuje przy małych odległościach i dużych kątach strzału, co jest zgodne z intuicją piłkarską.\n",
    "\n",
    "3. **Gradient skuteczności** jest widoczny zarówno wzdłuż osi odległości jak i kąta, ale wartości wzdłuż wierszy (dla stałej odległości) sugerują, że kąt strzału może być lepszym indywidualnym predyktorem skuteczności.\n",
    "\n",
    "4. **Skuteczność drastycznie spada** przy dużych odległościach, osiągając zaledwie 2% przy najdalszych strzałach. Przy dużych odległościach kąt strzału jest zawsze stosunkowo mały (co wynika z samej geometrii), co dodatkowo utrudnia zdobycie bramki.\n",
    "\n",
    "5. **Współliniowość zmiennych** stanowi wyzwanie dla modelowania. Mimo silnej korelacji, zdecydowano się zachować obie zmienne w dalszej analizie, planując zastosowanie technik regularyzacji (Ridge, LASSO lub Elastic Net) w procesie modelowania, aby kontrolować potencjalne problemy związane ze współliniowością.\n",
    "\n",
    "Ta analiza dostarcza cennych informacji o geometrycznych aspektach wpływających na skuteczność strzałów i będzie stanowić podstawę do budowy modelu expected goals (xG)."
   ]
  },
  {
   "cell_type": "code",
   "execution_count": null,
   "id": "05aa21ae",
   "metadata": {},
   "outputs": [],
   "source": [
    "# Tworzymy kwantyle dla distance i angle\n",
    "df_shots['distance_quantile'] = pd.qcut(df_shots['distance'], q=15, labels=False)\n",
    "df_shots['angle_quantile'] = pd.qcut(df_shots['angle'], q=15, labels=False)\n",
    "\n",
    "# Obliczamy skuteczność strzałów w zależności od distance\n",
    "df_eff_distance = df_shots.groupby('distance_quantile')['shot_outcome'].mean().reset_index()\n",
    "df_eff_distance['count'] = df_shots.groupby('distance_quantile')['shot_outcome'].count().values\n",
    "\n",
    "# Obliczamy skuteczność strzałów w zależności od angle\n",
    "df_eff_angle = df_shots.groupby('angle_quantile')['shot_outcome'].mean().reset_index()\n",
    "df_eff_angle['count'] = df_shots.groupby('angle_quantile')['shot_outcome'].count().values\n",
    "\n",
    "# Ustawienie stylu\n",
    "sns.set_style(\"whitegrid\")\n",
    "fig, axes = plt.subplots(1, 2, figsize=(12, 5))\n",
    "\n",
    "# Histogram skuteczności w zależności od dystansu\n",
    "sns.barplot(x=df_eff_distance['distance_quantile'].astype(str), y=df_eff_distance['shot_outcome'], ax=axes[0])\n",
    "axes[0].set_title('Skuteczność strzału a dystans (kwantyle)')\n",
    "axes[0].set_xlabel('Kwantyl dystansu')\n",
    "axes[0].set_ylabel('Skuteczność strzału')\n",
    "\n",
    "# Histogram skuteczności w zależności od kąta strzału\n",
    "sns.barplot(x=df_eff_angle['angle_quantile'].astype(str), y=df_eff_angle['shot_outcome'], ax=axes[1])\n",
    "axes[1].set_title('Skuteczność strzału a kąt strzału (kwantyle)')\n",
    "axes[1].set_xlabel('Kwantyl kąta strzału')\n",
    "axes[1].set_ylabel('Skuteczność strzału')\n",
    "\n",
    "plt.tight_layout()\n",
    "plt.show()\n",
    "\n",
    "distance_skew = stats.skew(df_shots['distance'])\n",
    "angle_skew = stats.skew(df_shots['angle'])\n",
    "\n",
    "print(\"Skośność zmiennych:\")\n",
    "print(f\"Odległość: {distance_skew:3f}\")\n",
    "print(f\"Kąt strzału: {angle_skew:3f}\")"
   ]
  },
  {
   "cell_type": "markdown",
   "id": "0215bc26",
   "metadata": {},
   "source": [
    "W przypadku dystansu widzimy wyraźnie, że im większa odległość (wyższy kwantyl) tym mniejsza skuteczność strzału. Odwrotna sytuacja (zgodna z intuicją) jest dla kąta strzału. Szansa rośnie z każdym kolejnym kwantylem - a zatem wraz ze wzrostem kąta strzału. Dodatkowo sprawdziłem skośność obu zmiennych ciągłych i okazuje się, że silnie skośny jest rozkład kąta strzału i na tej zmiennej bedzie konieczne zastosowanie logarytmizacji."
   ]
  },
  {
   "cell_type": "code",
   "execution_count": null,
   "id": "f92565f4",
   "metadata": {},
   "outputs": [],
   "source": [
    "# Tworzenie zmiennej zlogarytmizowanej\n",
    "df_shots['log_angle'] = np.log1p(df_shots['angle'])\n",
    "\n",
    "angle_new_skew = stats.skew(df_shots['log_angle'])\n",
    "\n",
    "# Wykres porównawczy dla odległości\n",
    "fig, axes = plt.subplots(1, 2, figsize=(10, 4))\n",
    "\n",
    "# Histogram dla oryginalnego kąta\n",
    "sns.histplot(df_shots['angle'], kde=True, ax=axes[0])\n",
    "axes[0].set_title(f'Rozkład kąta strzału (skośność: {angle_skew:.3f})')\n",
    "\n",
    "# Histogram dla zlogarytmizowanego kąta\n",
    "sns.histplot(df_shots['log_angle'], kde=True, ax=axes[1])\n",
    "axes[1].set_title(f'Rozkład zlogarytmizowanego kąta strzału (skośność: {angle_new_skew:.3f})')\n",
    "\n",
    "plt.tight_layout()\n",
    "plt.show()\n",
    "\n",
    "# Wydruk wartości skośności\n",
    "print(\"Skośność oryginalnych zmiennych:\")\n",
    "print(f\"Kąt strzału: {angle_skew:.3f}\")\n",
    "print(\"\\nSkośność zlogarytmizowanych zmiennych:\")\n",
    "print(f\"Log(kąt strzału): {angle_new_skew:.3f}\")"
   ]
  },
  {
   "cell_type": "markdown",
   "id": "89c40dff",
   "metadata": {},
   "source": [
    "Analiza rozkładu zmiennej \"kąt strzału\" wykazała silną prawostronną asymetrię (skośność = 2.192). Większość obserwacji koncentruje się w przedziale małych kątów (poniżej 25 stopni), co odpowiada trudniejszym sytuacjom strzeleckim, natomiast duże kąty (odpowiadające lepszym pozycjom) występują znacznie rzadziej.\n",
    "Zastosowanie transformacji logarytmicznej istotnie poprawiło rozkład zmiennej, redukując skośność do wartości 0.540. Uzyskany rozkład jest znacznie bliższy normalnemu, co zwiększy skuteczność modelowania statystycznego. Dzięki tej transformacji wpływ kąta strzału na prawdopodobieństwo zdobycia bramki zostanie lepiej uchwycony w całym zakresie wartości, co powinno przełożyć się na poprawę jakości modelu expected goals."
   ]
  },
  {
   "cell_type": "markdown",
   "id": "1faa7c2e",
   "metadata": {},
   "source": [
    "### Standaryzacja i dummy encoding"
   ]
  },
  {
   "cell_type": "code",
   "execution_count": null,
   "id": "61660440",
   "metadata": {},
   "outputs": [],
   "source": [
    "# Zmienne ciągłe do standaryzacji\n",
    "continuous_vars = ['distance', 'log_angle'] \n",
    "\n",
    "# Tworzenie nowych zmiennych ze standaryzowanymi wartościami\n",
    "scaler = StandardScaler()\n",
    "scaled_features = scaler.fit_transform(df_shots[continuous_vars])\n",
    "df_shots[['distance_scaled', 'log_angle_scaled']] = scaled_features\n",
    "\n",
    "df_shots[['distance_scaled', 'log_angle_scaled']].describe()"
   ]
  },
  {
   "cell_type": "code",
   "execution_count": null,
   "id": "c0b0536c",
   "metadata": {},
   "outputs": [],
   "source": [
    "dummies = pd.get_dummies(df_shots['refined_body_part']).astype(int)\n",
    "dummies_subset = dummies.drop('head', axis=1)\n",
    "df_shots = pd.concat([df_shots, dummies_subset], axis=1)\n",
    "df_shots = df_shots.drop('refined_body_part', axis=1) "
   ]
  },
  {
   "cell_type": "markdown",
   "id": "af07213b",
   "metadata": {},
   "source": [
    "### Usunięcie zmiennych nieistotnych"
   ]
  },
  {
   "cell_type": "code",
   "execution_count": null,
   "id": "7c328ed7",
   "metadata": {},
   "outputs": [],
   "source": [
    "df_shots = df_shots[['shot_outcome', 'under_pressure',\n",
    "       'shot_first_time', 'distance_scaled', 'log_angle_scaled', \n",
    "        'better_foot', 'worse_foot',\n",
    "        'normal_shot', 'open_play_shot', \n",
    "        'defenders_in_path', 'goalkeeper_in_path', 'shot_statsbomb_xg']]\n",
    "\n",
    "df_shots.head()"
   ]
  },
  {
   "cell_type": "markdown",
   "id": "6c4a8415",
   "metadata": {},
   "source": [
    "### BUDOWA MODELI"
   ]
  },
  {
   "cell_type": "code",
   "execution_count": null,
   "id": "b1888694",
   "metadata": {},
   "outputs": [],
   "source": [
    "df_shots.head()\n",
    "# df_shots.info()"
   ]
  },
  {
   "cell_type": "markdown",
   "id": "c8ed1afc",
   "metadata": {},
   "source": [
    "### PODZIAŁ NA ZBIORY TRENINGOWY I TESTOWY ORAZ RESAMPLING"
   ]
  },
  {
   "cell_type": "code",
   "execution_count": null,
   "id": "fd4e5c17",
   "metadata": {},
   "outputs": [],
   "source": [
    "# Przygotowanie danych\n",
    "X = df_shots.drop(['shot_outcome', 'shot_statsbomb_xg'], axis=1)\n",
    "y = df_shots['shot_outcome']\n",
    "\n",
    "# podział na treningowe/testowe\n",
    "X_train, X_test, y_train, y_test = train_test_split(X, y, test_size=0.2, random_state=42)\n",
    "\n",
    "# Oversampling na treningowych\n",
    "ros = RandomOverSampler(sampling_strategy=0.43, random_state=42)\n",
    "X_train, y_train = ros.fit_resample(X_train, y_train)\n",
    "\n",
    "# Sprawdzenie proporcji\n",
    "print(f\"Proporcja goli po oversampLingu: {sum(y_train)/len(y_train):.2f}\")"
   ]
  },
  {
   "cell_type": "markdown",
   "id": "1e7651db",
   "metadata": {},
   "source": [
    "### ZDEFINIOWANIE EWALUACJI"
   ]
  },
  {
   "cell_type": "code",
   "execution_count": null,
   "id": "ef9c4cba",
   "metadata": {},
   "outputs": [],
   "source": [
    "def evaluate_model(model, X_test, y_test):\n",
    "    # Predykcje\n",
    "    y_pred_proba = model.predict_proba(X_test)[:, 1]\n",
    "    \n",
    "    # Podstawowe metryki\n",
    "    roc_auc = roc_auc_score(y_test, y_pred_proba)\n",
    "    brier = brier_score_loss(y_test, y_pred_proba)\n",
    "    logloss = log_loss(y_test, y_pred_proba)\n",
    "    \n",
    "    # Precision-Recall AUC\n",
    "    precision, recall, _ = precision_recall_curve(y_test, y_pred_proba)\n",
    "    pr_auc = auc(recall, precision)\n",
    "    \n",
    "    \n",
    "    # Figure setup\n",
    "    fig, axes = plt.subplots(1, 3, figsize=(18, 5))\n",
    "        \n",
    "    # 1. ROC i PR krzywe\n",
    "    fpr, tpr, _ = roc_curve(y_test, y_pred_proba)\n",
    "    axes[0].plot(fpr, tpr, label=f'ROC (AUC={roc_auc:.3f})')\n",
    "    axes[0].plot(recall, precision, label=f'PR (AUC={pr_auc:.3f})')\n",
    "    axes[0].plot([0, 1], [0, 1], 'k--')\n",
    "    axes[0].set_xlabel('False Positive Rate / Recall')\n",
    "    axes[0].set_ylabel('True Positive Rate / Precision')\n",
    "    axes[0].set_title('ROC & PR Curves')\n",
    "    axes[0].legend(loc='lower right')\n",
    "    axes[0].grid(alpha=0.3)\n",
    "\n",
    "    # 2. Calibration Plot (Reliability Diagram)\n",
    "    prob_true, prob_pred = calibration_curve(y_test, y_pred_proba, n_bins=10)\n",
    "    axes[1].plot(prob_pred, prob_true, marker='o', linewidth=2)\n",
    "    axes[1].plot([0, 1], [0, 1], 'k--', label='Perfect calibration')\n",
    "    axes[1].set_xlabel('Predicted probability')\n",
    "    axes[1].set_ylabel('Observed frequency')\n",
    "    axes[1].set_title('Calibration Plot')\n",
    "    axes[1].legend(loc='lower right')\n",
    "    axes[1].grid(alpha=0.3)\n",
    "\n",
    "    # 3. Distribution Plot\n",
    "    sns.kdeplot(y_pred_proba[y_test==0], label='Non-goals', ax=axes[2], fill=True, alpha=0.5)\n",
    "    sns.kdeplot(y_pred_proba[y_test==1], label='Goals', ax=axes[2], fill=True, alpha=0.5)\n",
    "    axes[2].set_xlabel('Predicted xG')\n",
    "    axes[2].set_ylabel('Density')\n",
    "    axes[2].set_title('Distribution of Predictions')\n",
    "    axes[2].legend()\n",
    "    axes[2].grid(alpha=0.3)\n",
    "\n",
    "    plt.tight_layout()\n",
    "    plt.show()\n",
    "    \n",
    "    return {\n",
    "        'ROC AUC': roc_auc,\n",
    "        'PR AUC': pr_auc,\n",
    "        'Brier Score': brier,\n",
    "        'Log Loss': logloss\n",
    "    }"
   ]
  },
  {
   "cell_type": "markdown",
   "id": "7b9760ee",
   "metadata": {},
   "source": [
    "### Metryki oceny modeli Expected Goals (xG)\n",
    "\n",
    "#### ROC AUC\n",
    "ROC AUC mierzy zdolność modelu do przypisywania wyższych prawdopodobieństw strzałom, które faktycznie zakończyły się golami. Wartość 0.5 oznacza model losowy, a 1.0 model idealny. W praktyce wartości powyżej 0.8 świadczą o dobrym modelu xG, pozwalającym skutecznie rozróżniać sytuacje bramkowe od niebramkowych. Zaletą tej metryki jest jej odporność na niezbalansowanie klas w zbiorze testowym.\n",
    "\n",
    "#### Brier Score\n",
    "Ta metryka ocenia dokładność kalibracji prawdopodobieństw, czyli jak blisko rzeczywistości są wartości xG przewidywane przez model. Niższe wartości są lepsze (idealnie 0). Dla dobrego modelu xG oczekujemy wartości poniżej 0.08. Jest to szczególnie istotna metryka, ponieważ w analizie piłkarskiej chcemy nie tylko szeregować strzały od najlepszych do najgorszych, ale także dokładnie szacować prawdopodobieństwo zdobycia bramki.\n",
    "\n",
    "#### Log Loss\n",
    "Log loss (strata logarytmiczna) silnie penalizuje model za pewne błędne przewidywania. Na przykład, jeśli model przypisał wysokie prawdopodobieństwo strzałowi, który nie był golem, lub niskie prawdopodobieństwo strzałowi, który był golem, log loss będzie wysoki. Wartość poniżej 0.3 wskazuje na dobry model xG. Ta metryka jest wrażliwa na jakość kalibracji prawdopodobieństw.\n",
    "\n",
    "#### PR AUC\n",
    "Precision-Recall AUC jest szczególnie przydatny dla niezbalansowanych zbiorów danych, gdzie interesuje nas głównie wykrywanie rzadszej klasy (goli). Wartości powyżej 0.4 przy 10% goli świadczą o dobrym modelu. Ta metryka koncentruje się na jakości przewidywania klasy pozytywnej, co jest kluczowe w modelach xG.\n",
    "\n",
    "#### Korelacja Spearmana\n",
    "Ta miara ocenia, czy model prawidłowo szereguje strzały od najbardziej do najmniej groźnych, niezależnie od dokładnych wartości prawdopodobieństwa. Wartość powyżej 0.3 sugeruje, że model dobrze uchwycił względną \"jakość\" sytuacji bramkowych, co jest istotne dla analizy porównawczej zawodników lub drużyn.\n",
    "\n",
    "#### Skumulowane xG vs faktyczne gole\n",
    "To porównanie pozwala sprawdzić, czy model systematycznie nie przeszacowuje lub nie niedoszacowuje prawdopodobieństw w różnych kontekstach. Idealnie, suma wszystkich przewidywanych xG powinna być zbliżona do rzeczywistej liczby goli. Warto to analizować w różnych przedziałach (np. według odległości od bramki, kąta, części ciała użytej do strzału)."
   ]
  },
  {
   "cell_type": "markdown",
   "id": "657a5771",
   "metadata": {},
   "source": [
    "### Model 1 - Regresja Logistyczna"
   ]
  },
  {
   "cell_type": "code",
   "execution_count": null,
   "id": "7c8fd2c6",
   "metadata": {},
   "outputs": [],
   "source": [
    "# Parametry do przeszukania\n",
    "\"\"\"\n",
    "param_grid = {\n",
    "    'C': [0.01, 0.1, 1, 10, 100],  # Siła regularyzacji\n",
    "    'penalty': ['l1', 'l2'],       # Typ regularyzacji\n",
    "    'solver': ['liblinear'],       # Solver kompatybilny z l1 i l2\n",
    "    'class_weight': [None, 'balanced']  # Opcja ważenia klas\n",
    "}\n",
    "\"\"\"\n",
    "param_grid = {\n",
    "    'C': [10],  # Siła regularyzacji\n",
    "    'penalty': ['l2'],       # Typ regularyzacji\n",
    "    'solver': ['liblinear'],       # Solver kompatybilny z l1 i l2\n",
    "    'class_weight': ['balanced']  # Opcja ważenia klas\n",
    "}\n",
    "\n",
    "# Inicjalizacja modelu\n",
    "log_reg = LogisticRegression(random_state=42, max_iter=1000)\n",
    "\n",
    "# GridSearch z cross-walidacją\n",
    "grid_search = GridSearchCV(\n",
    "    log_reg, \n",
    "    param_grid, \n",
    "    cv=5,\n",
    "    scoring='roc_auc',\n",
    "    n_jobs=-1,\n",
    "    verbose=1\n",
    ")\n",
    "\n",
    "# Trenowanie na oversampleowanych danych\n",
    "grid_search.fit(X_train, y_train)\n",
    "\n",
    "# Najlepsze parametry\n",
    "print(f\"Najlepsze parametry: {grid_search.best_params_}\")\n",
    "print(f\"Najlepszy wynik: {grid_search.best_score_:.4f}\")\n",
    "\n",
    "# Najlepszy model\n",
    "best_log_reg = grid_search.best_estimator_\n",
    "\n",
    "# Ewaluacja na zbiorze testowym\n",
    "metrics_log_reg = evaluate_model(best_log_reg, X_test, y_test)\n",
    "print(\"\\nWyniki najlepszego modelu:\")\n",
    "for metric, value in metrics_log_reg.items():\n",
    "    print(f\"{metric}: {value:.4f}\")"
   ]
  },
  {
   "cell_type": "markdown",
   "id": "440a0f0f",
   "metadata": {},
   "source": [
    "### Model 2 - Lasy Losowe\n"
   ]
  },
  {
   "cell_type": "code",
   "execution_count": null,
   "id": "04b8e92b",
   "metadata": {},
   "outputs": [],
   "source": [
    "# Parametry do przeszukania\n",
    "\"\"\"\n",
    "param_grid = {\n",
    "    'n_estimators': [100, 200],        # Liczba drzew\n",
    "    'max_depth': [None, 10, 15],        # Maksymalna głębokość\n",
    "    'min_samples_split': [2, 5],        # Min. liczba próbek do podziału węzła\n",
    "    'min_samples_leaf': [1, 2],          # Min. liczba próbek w liściu\n",
    "    'max_features': ['sqrt', 'log2']        # Liczba cech do rozważenia przy podziale\n",
    "}\n",
    "\"\"\"\n",
    "param_grid = {\n",
    "    'n_estimators': [200],        # Liczba drzew\n",
    "    'max_depth': [None],        # Maksymalna głębokość\n",
    "    'min_samples_split': [2],        # Min. liczba próbek do podziału węzła\n",
    "    'min_samples_leaf': [1],          # Min. liczba próbek w liściu\n",
    "    'max_features': ['log2']        # Liczba cech do rozważenia przy podziale\n",
    "}\n",
    "\n",
    "# Inicjalizacja modelu\n",
    "rf = RandomForestClassifier(random_state=42, n_jobs=-1)\n",
    "\n",
    "# GridSearch z cross-walidacją\n",
    "grid_search = GridSearchCV(\n",
    "    rf, \n",
    "    param_grid, \n",
    "    cv=5,\n",
    "    scoring='roc_auc',\n",
    "    n_jobs=-1,\n",
    "    verbose=1\n",
    ")\n",
    "\n",
    "# Trenowanie na oversampleowanych danych\n",
    "grid_search.fit(X_train, y_train)\n",
    "\n",
    "# Najlepsze parametry\n",
    "print(f\"Najlepsze parametry: {grid_search.best_params_}\")\n",
    "print(f\"Najlepszy wynik: {grid_search.best_score_:.4f}\")\n",
    "\n",
    "# Najlepszy model\n",
    "best_rf = grid_search.best_estimator_\n",
    "\n",
    "# Ewaluacja na zbiorze testowym\n",
    "metrics_rf = evaluate_model(best_rf, X_test, y_test)\n",
    "print(\"\\nWyniki najlepszego modelu:\")\n",
    "for metric, value in metrics_rf.items():\n",
    "    print(f\"{metric}: {value:.4f}\")\n",
    "\n",
    "# Ważność cech\n",
    "feature_importance = pd.DataFrame({\n",
    "    'Feature': X_train.columns,\n",
    "    'Importance': best_rf.feature_importances_\n",
    "}).sort_values('Importance', ascending=False)\n",
    "\n",
    "print(\"\\nWażność cech:\")\n",
    "print(feature_importance.head(10))"
   ]
  },
  {
   "cell_type": "markdown",
   "id": "787285a8",
   "metadata": {},
   "source": [
    "### Model 1 - XGBoost"
   ]
  },
  {
   "cell_type": "code",
   "execution_count": null,
   "id": "c42d67ee",
   "metadata": {},
   "outputs": [],
   "source": [
    "param_grid = {\n",
    "    'n_estimators': [100, 200],        # Liczba drzew boosting\n",
    "    'max_depth': [3, 6, 9],            # Maksymalna głębokość drzewa\n",
    "    'learning_rate': [0.01, 0.1],      # Szybkość uczenia\n",
    "    'subsample': [0.8, 1.0],           # Odsetek próbek używanych dla każdego drzewa\n",
    "    'colsample_bytree': [0.8, 1.0]     # Odsetek cech używanych dla każdego drzewa\n",
    "}\n",
    "\n",
    "# Inicjalizacja modelu\n",
    "xgb = XGBClassifier(\n",
    "    random_state=42,\n",
    "    eval_metric='logloss',\n",
    "    use_label_encoder=False,  \n",
    "    objective='binary:logistic'\n",
    ")\n",
    "\n",
    "# GridSearch z cross-walidacją\n",
    "grid_search = GridSearchCV(\n",
    "    xgb, \n",
    "    param_grid, \n",
    "    cv=5,\n",
    "    scoring='roc_auc',\n",
    "    n_jobs=-1,\n",
    "    verbose=1\n",
    ")\n",
    "\n",
    "# Trenowanie na oversampleowanych danych\n",
    "grid_search.fit(X_train, y_train)\n",
    "\n",
    "# Najlepsze parametry i model\n",
    "print(f\"Najlepsze parametry: {grid_search.best_params_}\")\n",
    "best_xgb = grid_search.best_estimator_\n",
    "\n",
    "# Ewaluacja\n",
    "metrics_xgb = evaluate_model(best_xgb, X_test, y_test)\n",
    "print(\"\\nMetryki modelu XGBoost:\")\n",
    "for metric, value in metrics_xgb.items():\n",
    "    print(f\"{metric}: {value:.4f}\")"
   ]
  }
 ],
 "metadata": {
  "kernelspec": {
   "display_name": "Python 3 (ipykernel)",
   "language": "python",
   "name": "python3"
  },
  "language_info": {
   "codemirror_mode": {
    "name": "ipython",
    "version": 3
   },
   "file_extension": ".py",
   "mimetype": "text/x-python",
   "name": "python",
   "nbconvert_exporter": "python",
   "pygments_lexer": "ipython3",
   "version": "3.11.5"
  }
 },
 "nbformat": 4,
 "nbformat_minor": 5
}
